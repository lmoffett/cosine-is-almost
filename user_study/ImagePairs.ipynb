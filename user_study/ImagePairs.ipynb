{
 "cells": [
  {
   "cell_type": "markdown",
   "metadata": {},
   "source": [
    "# Select Image Pairs for Users to Review"
   ]
  },
  {
   "cell_type": "code",
   "execution_count": 56,
   "metadata": {},
   "outputs": [],
   "source": [
    "import pandas as pd\n",
    "import numpy as np\n",
    "import ast\n",
    "import tqdm\n",
    "import json\n",
    "\n",
    "from matplotlib import pyplot as plt"
   ]
  },
  {
   "cell_type": "code",
   "execution_count": null,
   "metadata": {},
   "outputs": [],
   "source": [
    "def model_proto_out_to_df(file_path):\n",
    "    \"\"\"\n",
    "    Parse the nested dictionary structure into a pandas DataFrame.\n",
    "    \n",
    "    Args:\n",
    "        data_dict (dict): The input nested dictionary structure\n",
    "        \n",
    "    Returns:\n",
    "        pd.DataFrame: A flattened DataFrame representation of the data\n",
    "    \"\"\"\n",
    "    # Prepare lists to collect all data\n",
    "    all_records = []\n",
    "\n",
    "    with open(file_path, 'r') as f:\n",
    "        data_dict = json.load(f)\n",
    "    \n",
    "    # Iterate through the top-level reference IDs\n",
    "    for ref_id, models_dict in data_dict.items():\n",
    "        # Iterate through models (cos, l2)\n",
    "        for model_type, img_dict in models_dict.items():\n",
    "            # Iterate through image indices\n",
    "            for img_idx, records in img_dict.items():\n",
    "                # Iterate through each record for this image\n",
    "                for record in records:\n",
    "                    # Create a flattened record with all relevant information\n",
    "                    flat_record = {\n",
    "                        'ref_id': ref_id,\n",
    "                        'activation_function': model_type,\n",
    "                        'img_idx': img_idx\n",
    "                    }\n",
    "                    \n",
    "                    # Add all fields from the record\n",
    "                    flat_record.update(record)\n",
    "                    \n",
    "                    # Append to our collection\n",
    "                    all_records.append(flat_record)\n",
    "    \n",
    "    # Convert to DataFrame\n",
    "    df = pd.DataFrame(all_records)\n",
    "    \n",
    "    # Convert numeric columns to appropriate types\n",
    "    numeric_cols = ['proto_rank', 'act_percentile', 'act_val']\n",
    "    for col in numeric_cols:\n",
    "        if col in df.columns:\n",
    "            df[col] = pd.to_numeric(df[col])\n",
    "\n",
    "    return df.set_index(['ref_id'])\n",
    "\n",
    "bounding_boxes = model_proto_out_to_df(os.environ['STUDY_MODEL_PROTO_OUT'])\n",
    "bounding_boxes.head()"
   ]
  },
  {
   "cell_type": "markdown",
   "metadata": {},
   "source": [
    "## Calculate Reference Patches"
   ]
  },
  {
   "cell_type": "code",
   "execution_count": null,
   "metadata": {},
   "outputs": [],
   "source": [
    "def compute_iou_vectorized(boxes1, boxes2, eps=1e-6):\n",
    "    \"\"\"\n",
    "    Vectorized IoU computation for two sets of boxes in format: [x1, y1, x2, y2].\n",
    "    boxes1: shape (N, 4), boxes2: shape (M, 4)\n",
    "    Returns: IoU matrix of shape (N, M).\n",
    "    \"\"\"\n",
    "    try:\n",
    "        x1 = np.maximum(boxes1[:, 0][:, None], boxes2[:, 0][None, :])\n",
    "        y1 = np.maximum(boxes1[:, 1][:, None], boxes2[:, 1][None, :])\n",
    "        x2 = np.minimum(boxes1[:, 2][:, None], boxes2[:, 2][None, :])\n",
    "        y2 = np.minimum(boxes1[:, 3][:, None], boxes2[:, 3][None, :])\n",
    "\n",
    "        inter_width = np.maximum(0, x2 - x1)\n",
    "        inter_height = np.maximum(0, y2 - y1)\n",
    "        intersection = inter_width * inter_height\n",
    "\n",
    "        area1 = (boxes1[:, 2] - boxes1[:, 0]) * (boxes1[:, 3] - boxes1[:, 1])\n",
    "        area2 = (boxes2[:, 2] - boxes2[:, 0]) * (boxes2[:, 3] - boxes2[:, 1])\n",
    "\n",
    "        union = area1[:, None] + area2[None, :] - intersection\n",
    "        iou = intersection / (union + eps)\n",
    "    except Exception as e:\n",
    "        print(f\"Error: {e}\")\n",
    "        raise e\n",
    "        \n",
    "    return iou\n",
    "\n",
    "def stack_bb(series):\n",
    "    return np.stack(series.apply(np.array).values)\n",
    "\n",
    "matrix_sizes = []\n",
    "pairs_data = []\n",
    "for ref_id, pair_df in tqdm.tqdm(bounding_boxes.reset_index().groupby('ref_id')):\n",
    "    for img, df in pair_df.groupby('ref_path'):\n",
    "\n",
    "        l2 = df[df['activation_function'] == 'l2']\n",
    "        cos = df[df['activation_function'] == 'cos']\n",
    "\n",
    "        if len(l2) == 0 or len(cos) == 0:\n",
    "            matrix_sizes.append((img, 0))\n",
    "            continue\n",
    "\n",
    "        iou_matrix = compute_iou_vectorized(stack_bb(l2['ref_box']), stack_bb(cos['ref_box']))\n",
    "        matrix_sizes.append((img, iou_matrix.shape[0]))\n",
    "\n",
    "        l2_patches = l2['ref_box'].values\n",
    "        cos_patches = cos['ref_box'].values\n",
    "\n",
    "        for i, l2_patch in enumerate(l2_patches):\n",
    "            for j, cos_patch in enumerate(cos_patches):\n",
    "                iou_value = iou_matrix[i, j]\n",
    "                if iou_value > 0.8:\n",
    "                    pairs_data.append({\n",
    "                        'ref_id': ref_id,\n",
    "                        'ref_path': img,\n",
    "                        'l2_proto_idx': l2.iloc[i]['proto_idx'],\n",
    "                        'cos_proto_idx': cos.iloc[j]['proto_idx'],\n",
    "                        'iou': iou_value\n",
    "                    })\n",
    "\n",
    "matrix_sizes_df = pd.DataFrame(matrix_sizes, columns=['image', 'matches'])\n",
    "pairs_df = pd.DataFrame(pairs_data)\n",
    "plt.hist(matrix_sizes_df['matches'], bins=20)\n",
    "pairs_df"
   ]
  },
  {
   "cell_type": "code",
   "execution_count": null,
   "metadata": {},
   "outputs": [],
   "source": [
    "pairs_df['cos_proto_idx'] = pairs_df['cos_proto_idx'].astype(str)\n",
    "pairs_df['l2_proto_idx'] = pairs_df['l2_proto_idx'].astype(str)\n",
    "pairs_df"
   ]
  },
  {
   "cell_type": "code",
   "execution_count": 233,
   "metadata": {},
   "outputs": [
    {
     "data": {
      "text/plain": [
       "<AxesSubplot: >"
      ]
     },
     "execution_count": 233,
     "metadata": {},
     "output_type": "execute_result"
    },
    {
     "data": {
      "image/png": "[encoded data removed]",
      "text/plain": [
       "<Figure size 640x480 with 1 Axes>"
      ]
     },
     "metadata": {},
     "output_type": "display_data"
    }
   ],
   "source": [
    "pairs_df['iou'].hist()"
   ]
  },
  {
   "cell_type": "markdown",
   "metadata": {},
   "source": [
    "## Select Model Pairs"
   ]
  },
  {
   "cell_type": "code",
   "execution_count": null,
   "metadata": {},
   "outputs": [],
   "source": [
    "pairs_df['cos_proto_idx'] = pairs_df['cos_proto_idx'].astype(str)\n",
    "pairs_df['l2_proto_idx'] = pairs_df['l2_proto_idx'].astype(str)\n",
    "pairs_df[['ref_id', 'cos_proto_idx', 'l2_proto_idx']]"
   ]
  },
  {
   "cell_type": "code",
   "execution_count": null,
   "metadata": {},
   "outputs": [],
   "source": [
    "__bb = bounding_boxes.reset_index()\n",
    "\n",
    "compiled_boxes = pairs_df\n",
    "for act in ['cos', 'l2']:\n",
    "    __df = __bb[__bb['activation_function'] == act]\n",
    "    __df = __df.drop(columns=['activation_function'])\n",
    "\n",
    "    compiled_boxes = compiled_boxes \\\n",
    "        .merge(__df, suffixes=('BAD', 'PROBLEM') if act == 'cos' else ('_cos', '_l2'), left_on=('ref_id', f'{act}_proto_idx', 'ref_path'), right_on=('ref_id', 'proto_idx', 'ref_path'))\n",
    "\n",
    "compiled_boxes = compiled_boxes.drop(columns=['cos_proto_idx', 'l2_proto_idx'])\n",
    "compiled_boxes"
   ]
  },
  {
   "cell_type": "code",
   "execution_count": 236,
   "metadata": {},
   "outputs": [
    {
     "data": {
      "text/plain": [
       "True    569326\n",
       "Name: count, dtype: int64"
      ]
     },
     "execution_count": 236,
     "metadata": {},
     "output_type": "execute_result"
    }
   ],
   "source": [
    "# all the images should match, but we can't enforce that except through the row id\n",
    "(compiled_boxes['img_idx_cos'] == compiled_boxes['img_idx_l2']).value_counts()"
   ]
  },
  {
   "cell_type": "code",
   "execution_count": null,
   "metadata": {},
   "outputs": [],
   "source": [
    "compiled_boxes['img_idx'] = compiled_boxes['img_idx_cos']\n",
    "compiled_boxes = compiled_boxes.drop(columns=['img_idx_cos', 'img_idx_l2'])\n",
    "compiled_boxes.columns"
   ]
  },
  {
   "cell_type": "code",
   "execution_count": 238,
   "metadata": {},
   "outputs": [
    {
     "data": {
      "text/plain": [
       "<matplotlib.collections.PathCollection at 0x7fa1faa5e5b0>"
      ]
     },
     "execution_count": 238,
     "metadata": {},
     "output_type": "execute_result"
    },
    {
     "data": {
      "image/png": "[encoded data removed]",
      "text/plain": [
       "<Figure size 640x480 with 1 Axes>"
      ]
     },
     "metadata": {},
     "output_type": "display_data"
    }
   ],
   "source": [
    "plt.scatter(compiled_boxes['act_percentile_cos'], compiled_boxes['act_percentile_l2'])"
   ]
  },
  {
   "cell_type": "code",
   "execution_count": null,
   "metadata": {},
   "outputs": [],
   "source": [
    "def average_patch(box1, box2):\n",
    "    avg_left_x = int((box1[0] + box2[0]) / 2)\n",
    "    avg_upper_y = int((box1[1] + box2[1]) / 2)\n",
    "    avg_right_x = int((box1[2] + box2[2]) / 2)\n",
    "    avg_lower_y = int((box1[3] + box2[3]) / 2)\n",
    "    final_ref_patch = [avg_left_x, avg_upper_y, avg_right_x, avg_lower_y]\n",
    "    return final_ref_patch\n",
    "\n",
    "compiled_boxes['ref_box_mean'] = compiled_boxes.apply(lambda row: average_patch(row['ref_box_l2'], row['ref_box_cos']), axis=1)\n",
    "compiled_boxes[['ref_box_mean', 'ref_box_l2', 'ref_box_cos']]"
   ]
  },
  {
   "cell_type": "code",
   "execution_count": 240,
   "metadata": {},
   "outputs": [
    {
     "data": {
      "text/plain": [
       "model_a         model_b       \n",
       "dreamy-puppy    gentle-meadow     43896\n",
       "tender-planet   neat-rocket       42998\n",
       "tidy-parrot     mighty-whale      35766\n",
       "spunky-flame    soft-mirror       29313\n",
       "quirk-mirror    clever-balloon    22931\n",
       "                                  ...  \n",
       "jumpy-mount     chilly-island       197\n",
       "brisk-spark     swift-jewel         151\n",
       "zesty-vessel    bright-flame        149\n",
       "thrifty-window  eager-field         142\n",
       "quirk-zephyr    jolly-thunder       125\n",
       "Name: count, Length: 65, dtype: int64"
      ]
     },
     "execution_count": 240,
     "metadata": {},
     "output_type": "execute_result"
    }
   ],
   "source": [
    "id_names = compiled_boxes['ref_id'].str.split('_')\n",
    "compiled_boxes['model_a'] = id_names.apply(lambda x: x[3])\n",
    "compiled_boxes['model_b'] = id_names.apply(lambda x: x[7])\n",
    "compiled_boxes[['model_a', 'model_b']].value_counts()"
   ]
  },
  {
   "cell_type": "code",
   "execution_count": 241,
   "metadata": {},
   "outputs": [
    {
     "data": {
      "text/plain": [
       "backbone\n",
       "densenet161                          327199\n",
       "resnet50[pretraining=inaturalist]    222008\n",
       "vgg19                                 20119\n",
       "Name: count, dtype: int64"
      ]
     },
     "execution_count": 241,
     "metadata": {},
     "output_type": "execute_result"
    }
   ],
   "source": [
    "compiled_boxes['backbone'] = compiled_boxes['ref_id'].str.split('_').str[-1]\n",
    "compiled_boxes['backbone'].value_counts()"
   ]
  },
  {
   "cell_type": "code",
   "execution_count": 242,
   "metadata": {},
   "outputs": [
    {
     "data": {
      "text/plain": [
       "<matplotlib.collections.PathCollection at 0x7fa217146a90>"
      ]
     },
     "execution_count": 242,
     "metadata": {},
     "output_type": "execute_result"
    },
    {
     "data": {
      "image/png": "[encoded data removed]",
      "text/plain": [
       "<Figure size 640x480 with 1 Axes>"
      ]
     },
     "metadata": {},
     "output_type": "display_data"
    }
   ],
   "source": [
    "compiled_boxes['act_diff_per'] = abs(compiled_boxes['act_percentile_cos'] - compiled_boxes['act_percentile_l2'])\n",
    "\n",
    "plt.scatter(compiled_boxes['act_diff_per'], compiled_boxes['iou'])"
   ]
  },
  {
   "cell_type": "code",
   "execution_count": null,
   "metadata": {},
   "outputs": [],
   "source": [
    "groups = ['ref', 'cos', 'l2']\n",
    "for g in groups:\n",
    "    col = 'ref_path' if g == 'ref' else f'proto_path_{g}'\n",
    "    compiled_boxes[f'class_{g}'] = compiled_boxes[col].str.split('/').apply(lambda x: x[7])\n",
    "\n",
    "compiled_boxes[[f'class_{g}' for g in groups]]"
   ]
  },
  {
   "cell_type": "code",
   "execution_count": 244,
   "metadata": {},
   "outputs": [
    {
     "data": {
      "application/vnd.microsoft.datawrangler.viewer.v0+json": {
       "columns": [
        {
         "name": "('both_classes_eq_or_not_eq', 'class_cos_equals', 'class_l2_equals')",
         "rawType": "object",
         "type": "unknown"
        },
        {
         "name": "ref_id",
         "rawType": "int64",
         "type": "integer"
        }
       ],
       "conversionMethod": "pd.DataFrame",
       "ref": "29ca2d91-4d10-401c-bc26-f8cd2524eaeb",
       "rows": [
        [
         "(False, False, True)",
         "118002"
        ],
        [
         "(False, True, False)",
         "29733"
        ],
        [
         "(True, False, False)",
         "409434"
        ],
        [
         "(True, True, True)",
         "12157"
        ]
       ],
       "shape": {
        "columns": 1,
        "rows": 4
       }
      },
      "text/html": [
       "<div>\n",
       "<style scoped>\n",
       "    .dataframe tbody tr th:only-of-type {\n",
       "        vertical-align: middle;\n",
       "    }\n",
       "\n",
       "    .dataframe tbody tr th {\n",
       "        vertical-align: top;\n",
       "    }\n",
       "\n",
       "    .dataframe thead th {\n",
       "        text-align: right;\n",
       "    }\n",
       "</style>\n",
       "<table border=\"1\" class=\"dataframe\">\n",
       "  <thead>\n",
       "    <tr style=\"text-align: right;\">\n",
       "      <th></th>\n",
       "      <th></th>\n",
       "      <th></th>\n",
       "      <th>ref_id</th>\n",
       "    </tr>\n",
       "    <tr>\n",
       "      <th>both_classes_eq_or_not_eq</th>\n",
       "      <th>class_cos_equals</th>\n",
       "      <th>class_l2_equals</th>\n",
       "      <th></th>\n",
       "    </tr>\n",
       "  </thead>\n",
       "  <tbody>\n",
       "    <tr>\n",
       "      <th rowspan=\"2\" valign=\"top\">False</th>\n",
       "      <th>False</th>\n",
       "      <th>True</th>\n",
       "      <td>118002</td>\n",
       "    </tr>\n",
       "    <tr>\n",
       "      <th>True</th>\n",
       "      <th>False</th>\n",
       "      <td>29733</td>\n",
       "    </tr>\n",
       "    <tr>\n",
       "      <th rowspan=\"2\" valign=\"top\">True</th>\n",
       "      <th>False</th>\n",
       "      <th>False</th>\n",
       "      <td>409434</td>\n",
       "    </tr>\n",
       "    <tr>\n",
       "      <th>True</th>\n",
       "      <th>True</th>\n",
       "      <td>12157</td>\n",
       "    </tr>\n",
       "  </tbody>\n",
       "</table>\n",
       "</div>"
      ],
      "text/plain": [
       "                                                            ref_id\n",
       "both_classes_eq_or_not_eq class_cos_equals class_l2_equals        \n",
       "False                     False            True             118002\n",
       "                          True             False             29733\n",
       "True                      False            False            409434\n",
       "                          True             True              12157"
      ]
     },
     "execution_count": 244,
     "metadata": {},
     "output_type": "execute_result"
    }
   ],
   "source": [
    "compiled_boxes['class_cos_equals'] = compiled_boxes['class_cos'] == compiled_boxes['class_ref']\n",
    "compiled_boxes['class_l2_equals'] = compiled_boxes['class_l2'] == compiled_boxes['class_ref']\n",
    "compiled_boxes['class_both_equals'] = compiled_boxes['class_cos_equals'] & compiled_boxes['class_l2_equals']\n",
    "compiled_boxes['class_both_not_equals'] = ~(compiled_boxes['class_cos_equals'] | compiled_boxes['class_l2_equals'])\n",
    "compiled_boxes['both_classes_eq_or_not_eq'] = compiled_boxes['class_both_equals'] | compiled_boxes['class_both_not_equals']\n",
    "\n",
    "compiled_boxes.groupby(['both_classes_eq_or_not_eq', 'class_cos_equals', 'class_l2_equals']).count()[['ref_id']]"
   ]
  },
  {
   "cell_type": "code",
   "execution_count": 246,
   "metadata": {},
   "outputs": [
    {
     "data": {
      "text/plain": [
       "False    567823\n",
       "True       1503\n",
       "Name: count, dtype: int64"
      ]
     },
     "metadata": {},
     "output_type": "display_data"
    },
    {
     "data": {
      "text/plain": [
       "False    567823\n",
       "Name: count, dtype: int64"
      ]
     },
     "execution_count": 246,
     "metadata": {},
     "output_type": "execute_result"
    }
   ],
   "source": [
    "# eliminate cases where both prototypes are from same source image - too hard to distinguish\n",
    "display((compiled_boxes['proto_path_cos'] == compiled_boxes['proto_path_l2']).value_counts())\n",
    "\n",
    "no_match_cases = compiled_boxes[compiled_boxes['proto_path_cos'] != compiled_boxes['proto_path_l2']]\n",
    "(no_match_cases['proto_path_cos'] == no_match_cases['proto_path_l2']).value_counts()"
   ]
  },
  {
   "cell_type": "code",
   "execution_count": 247,
   "metadata": {},
   "outputs": [
    {
     "data": {
      "text/plain": [
       "act_diff_per\n",
       "True     562466\n",
       "False      5357\n",
       "Name: count, dtype: int64"
      ]
     },
     "execution_count": 247,
     "metadata": {},
     "output_type": "execute_result"
    }
   ],
   "source": [
    "(no_match_cases['act_diff_per'] < 10).value_counts()"
   ]
  },
  {
   "cell_type": "code",
   "execution_count": null,
   "metadata": {},
   "outputs": [],
   "source": [
    "similar_no_match_cases = no_match_cases[no_match_cases['both_classes_eq_or_not_eq'] == True]\n",
    "similar_no_match_cases"
   ]
  },
  {
   "cell_type": "code",
   "execution_count": 252,
   "metadata": {},
   "outputs": [
    {
     "data": {
      "text/plain": [
       "18"
      ]
     },
     "execution_count": 252,
     "metadata": {},
     "output_type": "execute_result"
    }
   ],
   "source": [
    "TOTAL_SAMPLES = 54\n",
    "per_backbone = TOTAL_SAMPLES // 3\n",
    "per_backbone"
   ]
  },
  {
   "cell_type": "code",
   "execution_count": 325,
   "metadata": {},
   "outputs": [],
   "source": [
    "# these are images where neither prototype is on the bird\n",
    "# they were included in sampling originally, so now they're manually rejected\n",
    "selected_samples_no_birds = [\n",
    "    'row95_img_idx0_bouncy-plant_bouncy-plant_best_feisty-wildcat_feisty-wildcat_best_vgg19',\n",
    "    'row96_img_idx0_brisk-spark_brisk-spark_best_swift-jewel_swift-jewel_best_vgg19',\n",
    "    'row84_img_idx0_nimble-balloon_nimble-balloon_best_shiny-stream_shiny-stream_best_vgg19',\n",
    "    'row80_img_idx0_zesty-vessel_zesty-vessel_best_bright-flame_bright-flame_best_vgg19',\n",
    "    'row100_img_idx0_jumpy-mount_jumpy-mount_best_chilly-island_chilly-island_best_vgg19'\n",
    "]\n",
    "similar_no_match_cases = similar_no_match_cases[~similar_no_match_cases['ref_id'].isin(selected_samples_no_birds)]"
   ]
  },
  {
   "cell_type": "code",
   "execution_count": 327,
   "metadata": {},
   "outputs": [
    {
     "data": {
      "application/vnd.microsoft.datawrangler.viewer.v0+json": {
       "columns": [
        {
         "name": "index",
         "rawType": "object",
         "type": "string"
        },
        {
         "name": "0",
         "rawType": "int64",
         "type": "integer"
        },
        {
         "name": "1",
         "rawType": "int64",
         "type": "integer"
        },
        {
         "name": "2",
         "rawType": "int64",
         "type": "integer"
        },
        {
         "name": "3",
         "rawType": "int64",
         "type": "integer"
        },
        {
         "name": "4",
         "rawType": "int64",
         "type": "integer"
        },
        {
         "name": "5",
         "rawType": "int64",
         "type": "integer"
        }
       ],
       "conversionMethod": "pd.DataFrame",
       "ref": "6e0fdc60-65b6-440a-b6a3-a6c53f1b14c6",
       "rows": [
        [
         "ref_id",
         "21551",
         "51752",
         "85103",
         "105759",
         "97137",
         "47270"
        ]
       ],
       "shape": {
        "columns": 6,
        "rows": 1
       }
      },
      "text/html": [
       "<div>\n",
       "<style scoped>\n",
       "    .dataframe tbody tr th:only-of-type {\n",
       "        vertical-align: middle;\n",
       "    }\n",
       "\n",
       "    .dataframe tbody tr th {\n",
       "        vertical-align: top;\n",
       "    }\n",
       "\n",
       "    .dataframe thead th {\n",
       "        text-align: right;\n",
       "    }\n",
       "</style>\n",
       "<table border=\"1\" class=\"dataframe\">\n",
       "  <thead>\n",
       "    <tr style=\"text-align: right;\">\n",
       "      <th>percentile_bin</th>\n",
       "      <th>0</th>\n",
       "      <th>1</th>\n",
       "      <th>2</th>\n",
       "      <th>3</th>\n",
       "      <th>4</th>\n",
       "      <th>5</th>\n",
       "    </tr>\n",
       "  </thead>\n",
       "  <tbody>\n",
       "    <tr>\n",
       "      <th>ref_id</th>\n",
       "      <td>21551</td>\n",
       "      <td>51752</td>\n",
       "      <td>85103</td>\n",
       "      <td>105759</td>\n",
       "      <td>97137</td>\n",
       "      <td>47270</td>\n",
       "    </tr>\n",
       "  </tbody>\n",
       "</table>\n",
       "</div>"
      ],
      "text/plain": [
       "percentile_bin      0      1      2       3      4      5\n",
       "ref_id          21551  51752  85103  105759  97137  47270"
      ]
     },
     "metadata": {},
     "output_type": "display_data"
    },
    {
     "data": {
      "application/vnd.microsoft.datawrangler.viewer.v0+json": {
       "columns": [
        {
         "name": "backbone",
         "rawType": "object",
         "type": "string"
        },
        {
         "name": "ref_path",
         "rawType": "int64",
         "type": "integer"
        }
       ],
       "conversionMethod": "pd.DataFrame",
       "ref": "d150cd62-61c5-4e7d-85c3-2170f90477d2",
       "rows": [
        [
         "densenet161",
         "18"
        ],
        [
         "resnet50[pretraining=inaturalist]",
         "18"
        ],
        [
         "vgg19",
         "18"
        ]
       ],
       "shape": {
        "columns": 1,
        "rows": 3
       }
      },
      "text/html": [
       "<div>\n",
       "<style scoped>\n",
       "    .dataframe tbody tr th:only-of-type {\n",
       "        vertical-align: middle;\n",
       "    }\n",
       "\n",
       "    .dataframe tbody tr th {\n",
       "        vertical-align: top;\n",
       "    }\n",
       "\n",
       "    .dataframe thead th {\n",
       "        text-align: right;\n",
       "    }\n",
       "</style>\n",
       "<table border=\"1\" class=\"dataframe\">\n",
       "  <thead>\n",
       "    <tr style=\"text-align: right;\">\n",
       "      <th></th>\n",
       "      <th>ref_path</th>\n",
       "    </tr>\n",
       "    <tr>\n",
       "      <th>backbone</th>\n",
       "      <th></th>\n",
       "    </tr>\n",
       "  </thead>\n",
       "  <tbody>\n",
       "    <tr>\n",
       "      <th>densenet161</th>\n",
       "      <td>18</td>\n",
       "    </tr>\n",
       "    <tr>\n",
       "      <th>resnet50[pretraining=inaturalist]</th>\n",
       "      <td>18</td>\n",
       "    </tr>\n",
       "    <tr>\n",
       "      <th>vgg19</th>\n",
       "      <td>18</td>\n",
       "    </tr>\n",
       "  </tbody>\n",
       "</table>\n",
       "</div>"
      ],
      "text/plain": [
       "                                   ref_path\n",
       "backbone                                   \n",
       "densenet161                              18\n",
       "resnet50[pretraining=inaturalist]        18\n",
       "vgg19                                    18"
      ]
     },
     "execution_count": 327,
     "metadata": {},
     "output_type": "execute_result"
    }
   ],
   "source": [
    "import random\n",
    "random.seed(0)\n",
    "\n",
    "def select_stratified_samples(df, per_backbone):\n",
    "    selected_indices = []\n",
    "    # randomize the dataframe for sampling\n",
    "    df = df.sample(frac=1)\n",
    "\n",
    "    df['act_percentile_min'] = df[['act_percentile_cos', 'act_percentile_l2']].min(axis=1)\n",
    "    df = df[df['act_percentile_min'] >= 90]\n",
    "    df['percentile_bin'] = pd.cut(df['act_percentile_min'], bins=6, labels=False)\n",
    "\n",
    "    df.groupby('percentile_bin').count()[['ref_id']].T.pipe(display)\n",
    "\n",
    "    samples_by_backbone = {k: 0 for k in df['backbone'].unique()}\n",
    "    \n",
    "    last_samples = {}\n",
    "    # For each backbone, keep selecting until we hit the target number\n",
    "    while any(samples_by_backbone[k] < per_backbone for k in samples_by_backbone.keys()):\n",
    "        # Get remaining samples needed for each backbone\n",
    "        if last_samples == samples_by_backbone:\n",
    "            print('could not fulfill criteria')\n",
    "            break\n",
    "        last_samples = samples_by_backbone.copy()\n",
    "\n",
    "        remaining_samples = {\n",
    "            k: per_backbone - samples_by_backbone[k] \n",
    "            for k in samples_by_backbone.keys()\n",
    "        }\n",
    "        \n",
    "        # Filter to only backbones that still need samples\n",
    "        active_backbones = [k for k, v in remaining_samples.items() if v > 0]\n",
    "        \n",
    "        # Get available rows (not already selected)\n",
    "        available_df = df[~df.index.isin(selected_indices)].copy()\n",
    "        if len(available_df) == 0:\n",
    "            break\n",
    "            \n",
    "        for backbone in active_backbones:\n",
    "            if samples_by_backbone[backbone] >= per_backbone:\n",
    "                continue\n",
    "                \n",
    "            backbone_df = available_df[available_df['backbone'] == backbone]\n",
    "            if len(backbone_df) == 0:\n",
    "                continue\n",
    "\n",
    "            # Get counts of already selected samples for this backbone\n",
    "            selected_backbone_df = df.loc[selected_indices]\n",
    "            selected_backbone_df = selected_backbone_df[\n",
    "                selected_backbone_df['backbone'] == backbone\n",
    "            ]\n",
    "\n",
    "            backbone_df = backbone_df[~backbone_df['ref_path'].isin(selected_backbone_df.ref_path)]\n",
    "            \n",
    "            for bin_num in range(6):\n",
    "                bin_len = len(selected_backbone_df[selected_backbone_df['percentile_bin'] == bin_num])\n",
    "                if bin_len < 2:\n",
    "                    backbone_df = backbone_df[backbone_df['percentile_bin'] == bin_num]\n",
    "                    break\n",
    "\n",
    "                elif bin_len > 4:\n",
    "                    backbone_df = backbone_df[backbone_df['percentile_bin'] != bin_num]\n",
    "                    \n",
    "            if selected_backbone_df['class_both_equals'].value_counts().get(True, 0) == per_backbone//2:\n",
    "                backbone_df = backbone_df[backbone_df['class_both_not_equals']]\n",
    "            elif selected_backbone_df['class_both_not_equals'].value_counts().get(True, 0) == per_backbone//2:\n",
    "                backbone_df = backbone_df[backbone_df['class_both_equals']]\n",
    "            \n",
    "            model_a_counts = selected_backbone_df['model_a'].value_counts()\n",
    "            model_b_counts = selected_backbone_df['model_b'].value_counts()\n",
    "            class_counts = selected_backbone_df['class_ref'].value_counts()\n",
    "            \n",
    "            # Find underrepresented models and classes\n",
    "            all_a_models = set(backbone_df['model_a'].unique())\n",
    "            all_b_models = set(backbone_df['model_b'].unique())\n",
    "            all_classes = set(backbone_df['class_ref'].unique())\n",
    "            \n",
    "            missing_a_models = all_a_models - set(model_a_counts.index)\n",
    "            missing_b_models = all_b_models - set(model_b_counts.index)\n",
    "            missing_classes = all_classes - set(class_counts.index)\n",
    "            \n",
    "            # Prioritize rows with missing models and classes\n",
    "            candidates = backbone_df\n",
    "            if (len(missing_a_models) > 0 or len(missing_b_models) > 0):\n",
    "                unused_as = candidates['model_a'].isin(missing_a_models)\n",
    "                unused_bs = candidates['model_b'].isin(missing_b_models)\n",
    "\n",
    "                if (unused_as & unused_bs).any():\n",
    "                    candidates = candidates[unused_as & unused_bs]\n",
    "                elif (unused_as | unused_bs).any():\n",
    "                    candidates = candidates[unused_as | unused_bs]\n",
    "            \n",
    "            if sum(candidates['class_ref'].isin(missing_classes)) > 0:\n",
    "                candidates = candidates[candidates['class_ref'].isin(missing_classes)]\n",
    "\n",
    "            best_row = candidates.sort_values('act_diff_per', ascending=True).head(1)\n",
    "            if not best_row.empty:\n",
    "                selected_indices.append(best_row.index[0])\n",
    "                samples_by_backbone[backbone] += 1\n",
    "    \n",
    "    return df.loc[selected_indices]\n",
    "\n",
    "selected_samples = select_stratified_samples(similar_no_match_cases, per_backbone)\n",
    "\n",
    "selected_samples.groupby('backbone').count()[['ref_path']]"
   ]
  },
  {
   "cell_type": "code",
   "execution_count": 328,
   "metadata": {},
   "outputs": [
    {
     "data": {
      "text/plain": [
       "array([[<AxesSubplot: title={'center': 'act_diff_per'}>,\n",
       "        <AxesSubplot: title={'center': 'act_percentile_cos'}>],\n",
       "       [<AxesSubplot: title={'center': 'act_percentile_l2'}>,\n",
       "        <AxesSubplot: >]], dtype=object)"
      ]
     },
     "execution_count": 328,
     "metadata": {},
     "output_type": "execute_result"
    },
    {
     "data": {
      "image/png": "[encoded data removed]",
      "text/plain": [
       "<Figure size 640x480 with 4 Axes>"
      ]
     },
     "metadata": {},
     "output_type": "display_data"
    }
   ],
   "source": [
    "selected_samples[['act_diff_per', 'act_percentile_cos', 'act_percentile_l2']].hist()"
   ]
  },
  {
   "cell_type": "code",
   "execution_count": 329,
   "metadata": {},
   "outputs": [
    {
     "data": {
      "application/vnd.microsoft.datawrangler.viewer.v0+json": {
       "columns": [
        {
         "name": "('model_a', 'model_b')",
         "rawType": "object",
         "type": "unknown"
        },
        {
         "name": "ref_path",
         "rawType": "int64",
         "type": "integer"
        }
       ],
       "conversionMethod": "pd.DataFrame",
       "ref": "dc9945ac-4213-4143-83ef-643b0476238f",
       "rows": [
        [
         "('bubbly-whale', 'silent-field')",
         "2"
        ],
        [
         "('happy-chair', 'swift-sapphire')",
         "2"
        ],
        [
         "('breezy-ribbon', 'true-season')",
         "1"
        ],
        [
         "('steady-forest', 'sober-jewel')",
         "1"
        ],
        [
         "('quirky-field', 'dainty-pebble')",
         "1"
        ],
        [
         "('shiny-vessel', 'rapid-sapphire')",
         "1"
        ],
        [
         "('silent-sapphire', '0.843')",
         "1"
        ],
        [
         "('smooth-jewel', 'shy-snow')",
         "1"
        ],
        [
         "('snappy-shadow', 'silent-plume')",
         "1"
        ],
        [
         "('sober-apple', 'bubbly-house')",
         "1"
        ],
        [
         "('sober-plume', 'shy-jewel')",
         "1"
        ],
        [
         "('spicy-school', 'thrifty-cloud')",
         "1"
        ],
        [
         "('spry-circle', 'bright-eagle')",
         "1"
        ],
        [
         "('spunky-flame', 'soft-mirror')",
         "1"
        ],
        [
         "('strong-wildcat', 'dandy-planet')",
         "1"
        ],
        [
         "('strong-apple', 'silent-lemon')",
         "1"
        ],
        [
         "('quirk-mirror', 'clever-balloon')",
         "1"
        ],
        [
         "('sturdy-circle', 'lively-temple')",
         "1"
        ],
        [
         "('sturdy-dream', 'nimble-spirit')",
         "1"
        ],
        [
         "('sunny-kitten', 'sunny-silver')",
         "1"
        ],
        [
         "('tender-planet', 'neat-rocket')",
         "1"
        ],
        [
         "('tidy-parrot', 'mighty-whale')",
         "1"
        ],
        [
         "('tiny-spirit', 'swift-sister')",
         "1"
        ],
        [
         "('tough-beach', 'shy-silver')",
         "1"
        ],
        [
         "('warm-shore', 'mighty-sister')",
         "1"
        ],
        [
         "('wild-pebble', 'lively-shore')",
         "1"
        ],
        [
         "('quirk-zephyr', 'jolly-thunder')",
         "1"
        ],
        [
         "('quiet-unicorn', 'spry-kitten')",
         "1"
        ],
        [
         "('brisk-wildcat', 'bright-cloud')",
         "1"
        ],
        [
         "('primal-flower', 'peppy-stone')",
         "1"
        ],
        [
         "('calm-kitten', 'swift-jewel')",
         "1"
        ],
        [
         "('cheeky-smile', 'sturdy-meadow')",
         "1"
        ],
        [
         "('cozy-mount', 'dapper-season')",
         "1"
        ],
        [
         "('dainty-kitten', 'kind-ocean')",
         "1"
        ],
        [
         "('dainty-thunder', 'lovely-vessel')",
         "1"
        ],
        [
         "('dandy-stream', 'crispy-forest')",
         "1"
        ],
        [
         "('dreamy-puppy', 'gentle-meadow')",
         "1"
        ],
        [
         "('fancy-sapphire', 'rapid-meadow')",
         "1"
        ],
        [
         "('glossy-train', 'crispy-smile')",
         "1"
        ],
        [
         "('happy-parrot', 'mighty-ribbon')",
         "1"
        ],
        [
         "('jolly-garden', 'soft-snow')",
         "1"
        ],
        [
         "('jolly-plant', 'honest-ocean')",
         "1"
        ],
        [
         "('jovial-puppy', 'juicy-river')",
         "1"
        ],
        [
         "('jumpy-honey', 'bubbly-valley')",
         "1"
        ],
        [
         "('lively-school', 'fiery-house')",
         "1"
        ],
        [
         "('loyal-bridge', 'curvy-shadow')",
         "1"
        ],
        [
         "('mighty-smile', 'proud-glove')",
         "1"
        ],
        [
         "('nifty-sister', 'loyal-rocket')",
         "1"
        ],
        [
         "('peachy-honey', 'shiny-spark')",
         "1"
        ],
        [
         "('peachy-island', 'active-river')",
         "1"
        ]
       ],
       "shape": {
        "columns": 1,
        "rows": 52
       }
      },
      "text/html": [
       "<div>\n",
       "<style scoped>\n",
       "    .dataframe tbody tr th:only-of-type {\n",
       "        vertical-align: middle;\n",
       "    }\n",
       "\n",
       "    .dataframe tbody tr th {\n",
       "        vertical-align: top;\n",
       "    }\n",
       "\n",
       "    .dataframe thead th {\n",
       "        text-align: right;\n",
       "    }\n",
       "</style>\n",
       "<table border=\"1\" class=\"dataframe\">\n",
       "  <thead>\n",
       "    <tr style=\"text-align: right;\">\n",
       "      <th></th>\n",
       "      <th></th>\n",
       "      <th>ref_path</th>\n",
       "    </tr>\n",
       "    <tr>\n",
       "      <th>model_a</th>\n",
       "      <th>model_b</th>\n",
       "      <th></th>\n",
       "    </tr>\n",
       "  </thead>\n",
       "  <tbody>\n",
       "    <tr>\n",
       "      <th>bubbly-whale</th>\n",
       "      <th>silent-field</th>\n",
       "      <td>2</td>\n",
       "    </tr>\n",
       "    <tr>\n",
       "      <th>happy-chair</th>\n",
       "      <th>swift-sapphire</th>\n",
       "      <td>2</td>\n",
       "    </tr>\n",
       "    <tr>\n",
       "      <th>breezy-ribbon</th>\n",
       "      <th>true-season</th>\n",
       "      <td>1</td>\n",
       "    </tr>\n",
       "    <tr>\n",
       "      <th>steady-forest</th>\n",
       "      <th>sober-jewel</th>\n",
       "      <td>1</td>\n",
       "    </tr>\n",
       "    <tr>\n",
       "      <th>quirky-field</th>\n",
       "      <th>dainty-pebble</th>\n",
       "      <td>1</td>\n",
       "    </tr>\n",
       "    <tr>\n",
       "      <th>shiny-vessel</th>\n",
       "      <th>rapid-sapphire</th>\n",
       "      <td>1</td>\n",
       "    </tr>\n",
       "    <tr>\n",
       "      <th>silent-sapphire</th>\n",
       "      <th>0.843</th>\n",
       "      <td>1</td>\n",
       "    </tr>\n",
       "    <tr>\n",
       "      <th>smooth-jewel</th>\n",
       "      <th>shy-snow</th>\n",
       "      <td>1</td>\n",
       "    </tr>\n",
       "    <tr>\n",
       "      <th>snappy-shadow</th>\n",
       "      <th>silent-plume</th>\n",
       "      <td>1</td>\n",
       "    </tr>\n",
       "    <tr>\n",
       "      <th>sober-apple</th>\n",
       "      <th>bubbly-house</th>\n",
       "      <td>1</td>\n",
       "    </tr>\n",
       "    <tr>\n",
       "      <th>sober-plume</th>\n",
       "      <th>shy-jewel</th>\n",
       "      <td>1</td>\n",
       "    </tr>\n",
       "    <tr>\n",
       "      <th>spicy-school</th>\n",
       "      <th>thrifty-cloud</th>\n",
       "      <td>1</td>\n",
       "    </tr>\n",
       "    <tr>\n",
       "      <th>spry-circle</th>\n",
       "      <th>bright-eagle</th>\n",
       "      <td>1</td>\n",
       "    </tr>\n",
       "    <tr>\n",
       "      <th>spunky-flame</th>\n",
       "      <th>soft-mirror</th>\n",
       "      <td>1</td>\n",
       "    </tr>\n",
       "    <tr>\n",
       "      <th>strong-wildcat</th>\n",
       "      <th>dandy-planet</th>\n",
       "      <td>1</td>\n",
       "    </tr>\n",
       "    <tr>\n",
       "      <th>strong-apple</th>\n",
       "      <th>silent-lemon</th>\n",
       "      <td>1</td>\n",
       "    </tr>\n",
       "    <tr>\n",
       "      <th>quirk-mirror</th>\n",
       "      <th>clever-balloon</th>\n",
       "      <td>1</td>\n",
       "    </tr>\n",
       "    <tr>\n",
       "      <th>sturdy-circle</th>\n",
       "      <th>lively-temple</th>\n",
       "      <td>1</td>\n",
       "    </tr>\n",
       "    <tr>\n",
       "      <th>sturdy-dream</th>\n",
       "      <th>nimble-spirit</th>\n",
       "      <td>1</td>\n",
       "    </tr>\n",
       "    <tr>\n",
       "      <th>sunny-kitten</th>\n",
       "      <th>sunny-silver</th>\n",
       "      <td>1</td>\n",
       "    </tr>\n",
       "    <tr>\n",
       "      <th>tender-planet</th>\n",
       "      <th>neat-rocket</th>\n",
       "      <td>1</td>\n",
       "    </tr>\n",
       "    <tr>\n",
       "      <th>tidy-parrot</th>\n",
       "      <th>mighty-whale</th>\n",
       "      <td>1</td>\n",
       "    </tr>\n",
       "    <tr>\n",
       "      <th>tiny-spirit</th>\n",
       "      <th>swift-sister</th>\n",
       "      <td>1</td>\n",
       "    </tr>\n",
       "    <tr>\n",
       "      <th>tough-beach</th>\n",
       "      <th>shy-silver</th>\n",
       "      <td>1</td>\n",
       "    </tr>\n",
       "    <tr>\n",
       "      <th>warm-shore</th>\n",
       "      <th>mighty-sister</th>\n",
       "      <td>1</td>\n",
       "    </tr>\n",
       "    <tr>\n",
       "      <th>wild-pebble</th>\n",
       "      <th>lively-shore</th>\n",
       "      <td>1</td>\n",
       "    </tr>\n",
       "    <tr>\n",
       "      <th>quirk-zephyr</th>\n",
       "      <th>jolly-thunder</th>\n",
       "      <td>1</td>\n",
       "    </tr>\n",
       "    <tr>\n",
       "      <th>quiet-unicorn</th>\n",
       "      <th>spry-kitten</th>\n",
       "      <td>1</td>\n",
       "    </tr>\n",
       "    <tr>\n",
       "      <th>brisk-wildcat</th>\n",
       "      <th>bright-cloud</th>\n",
       "      <td>1</td>\n",
       "    </tr>\n",
       "    <tr>\n",
       "      <th>primal-flower</th>\n",
       "      <th>peppy-stone</th>\n",
       "      <td>1</td>\n",
       "    </tr>\n",
       "    <tr>\n",
       "      <th>calm-kitten</th>\n",
       "      <th>swift-jewel</th>\n",
       "      <td>1</td>\n",
       "    </tr>\n",
       "    <tr>\n",
       "      <th>cheeky-smile</th>\n",
       "      <th>sturdy-meadow</th>\n",
       "      <td>1</td>\n",
       "    </tr>\n",
       "    <tr>\n",
       "      <th>cozy-mount</th>\n",
       "      <th>dapper-season</th>\n",
       "      <td>1</td>\n",
       "    </tr>\n",
       "    <tr>\n",
       "      <th>dainty-kitten</th>\n",
       "      <th>kind-ocean</th>\n",
       "      <td>1</td>\n",
       "    </tr>\n",
       "    <tr>\n",
       "      <th>dainty-thunder</th>\n",
       "      <th>lovely-vessel</th>\n",
       "      <td>1</td>\n",
       "    </tr>\n",
       "    <tr>\n",
       "      <th>dandy-stream</th>\n",
       "      <th>crispy-forest</th>\n",
       "      <td>1</td>\n",
       "    </tr>\n",
       "    <tr>\n",
       "      <th>dreamy-puppy</th>\n",
       "      <th>gentle-meadow</th>\n",
       "      <td>1</td>\n",
       "    </tr>\n",
       "    <tr>\n",
       "      <th>fancy-sapphire</th>\n",
       "      <th>rapid-meadow</th>\n",
       "      <td>1</td>\n",
       "    </tr>\n",
       "    <tr>\n",
       "      <th>glossy-train</th>\n",
       "      <th>crispy-smile</th>\n",
       "      <td>1</td>\n",
       "    </tr>\n",
       "    <tr>\n",
       "      <th>happy-parrot</th>\n",
       "      <th>mighty-ribbon</th>\n",
       "      <td>1</td>\n",
       "    </tr>\n",
       "    <tr>\n",
       "      <th>jolly-garden</th>\n",
       "      <th>soft-snow</th>\n",
       "      <td>1</td>\n",
       "    </tr>\n",
       "    <tr>\n",
       "      <th>jolly-plant</th>\n",
       "      <th>honest-ocean</th>\n",
       "      <td>1</td>\n",
       "    </tr>\n",
       "    <tr>\n",
       "      <th>jovial-puppy</th>\n",
       "      <th>juicy-river</th>\n",
       "      <td>1</td>\n",
       "    </tr>\n",
       "    <tr>\n",
       "      <th>jumpy-honey</th>\n",
       "      <th>bubbly-valley</th>\n",
       "      <td>1</td>\n",
       "    </tr>\n",
       "    <tr>\n",
       "      <th>lively-school</th>\n",
       "      <th>fiery-house</th>\n",
       "      <td>1</td>\n",
       "    </tr>\n",
       "    <tr>\n",
       "      <th>loyal-bridge</th>\n",
       "      <th>curvy-shadow</th>\n",
       "      <td>1</td>\n",
       "    </tr>\n",
       "    <tr>\n",
       "      <th>mighty-smile</th>\n",
       "      <th>proud-glove</th>\n",
       "      <td>1</td>\n",
       "    </tr>\n",
       "    <tr>\n",
       "      <th>nifty-sister</th>\n",
       "      <th>loyal-rocket</th>\n",
       "      <td>1</td>\n",
       "    </tr>\n",
       "    <tr>\n",
       "      <th>peachy-honey</th>\n",
       "      <th>shiny-spark</th>\n",
       "      <td>1</td>\n",
       "    </tr>\n",
       "    <tr>\n",
       "      <th>peachy-island</th>\n",
       "      <th>active-river</th>\n",
       "      <td>1</td>\n",
       "    </tr>\n",
       "    <tr>\n",
       "      <th>polite-parrot</th>\n",
       "      <th>zippy-island</th>\n",
       "      <td>1</td>\n",
       "    </tr>\n",
       "    <tr>\n",
       "      <th>zippy-morning</th>\n",
       "      <th>fiery-wildcat</th>\n",
       "      <td>1</td>\n",
       "    </tr>\n",
       "  </tbody>\n",
       "</table>\n",
       "</div>"
      ],
      "text/plain": [
       "                                ref_path\n",
       "model_a         model_b                 \n",
       "bubbly-whale    silent-field           2\n",
       "happy-chair     swift-sapphire         2\n",
       "breezy-ribbon   true-season            1\n",
       "steady-forest   sober-jewel            1\n",
       "quirky-field    dainty-pebble          1\n",
       "shiny-vessel    rapid-sapphire         1\n",
       "silent-sapphire 0.843                  1\n",
       "smooth-jewel    shy-snow               1\n",
       "snappy-shadow   silent-plume           1\n",
       "sober-apple     bubbly-house           1\n",
       "sober-plume     shy-jewel              1\n",
       "spicy-school    thrifty-cloud          1\n",
       "spry-circle     bright-eagle           1\n",
       "spunky-flame    soft-mirror            1\n",
       "strong-wildcat  dandy-planet           1\n",
       "strong-apple    silent-lemon           1\n",
       "quirk-mirror    clever-balloon         1\n",
       "sturdy-circle   lively-temple          1\n",
       "sturdy-dream    nimble-spirit          1\n",
       "sunny-kitten    sunny-silver           1\n",
       "tender-planet   neat-rocket            1\n",
       "tidy-parrot     mighty-whale           1\n",
       "tiny-spirit     swift-sister           1\n",
       "tough-beach     shy-silver             1\n",
       "warm-shore      mighty-sister          1\n",
       "wild-pebble     lively-shore           1\n",
       "quirk-zephyr    jolly-thunder          1\n",
       "quiet-unicorn   spry-kitten            1\n",
       "brisk-wildcat   bright-cloud           1\n",
       "primal-flower   peppy-stone            1\n",
       "calm-kitten     swift-jewel            1\n",
       "cheeky-smile    sturdy-meadow          1\n",
       "cozy-mount      dapper-season          1\n",
       "dainty-kitten   kind-ocean             1\n",
       "dainty-thunder  lovely-vessel          1\n",
       "dandy-stream    crispy-forest          1\n",
       "dreamy-puppy    gentle-meadow          1\n",
       "fancy-sapphire  rapid-meadow           1\n",
       "glossy-train    crispy-smile           1\n",
       "happy-parrot    mighty-ribbon          1\n",
       "jolly-garden    soft-snow              1\n",
       "jolly-plant     honest-ocean           1\n",
       "jovial-puppy    juicy-river            1\n",
       "jumpy-honey     bubbly-valley          1\n",
       "lively-school   fiery-house            1\n",
       "loyal-bridge    curvy-shadow           1\n",
       "mighty-smile    proud-glove            1\n",
       "nifty-sister    loyal-rocket           1\n",
       "peachy-honey    shiny-spark            1\n",
       "peachy-island   active-river           1\n",
       "polite-parrot   zippy-island           1\n",
       "zippy-morning   fiery-wildcat          1"
      ]
     },
     "execution_count": 329,
     "metadata": {},
     "output_type": "execute_result"
    }
   ],
   "source": [
    "selected_samples.groupby(['model_a', 'model_b']).count()[['ref_path']].sort_values('ref_path', ascending=False)"
   ]
  },
  {
   "cell_type": "code",
   "execution_count": 330,
   "metadata": {},
   "outputs": [
    {
     "data": {
      "application/vnd.microsoft.datawrangler.viewer.v0+json": {
       "columns": [
        {
         "name": "('backbone', 'class_cos_equals', 'class_l2_equals')",
         "rawType": "object",
         "type": "unknown"
        },
        {
         "name": "ref_path",
         "rawType": "int64",
         "type": "integer"
        }
       ],
       "conversionMethod": "pd.DataFrame",
       "ref": "3d84d93d-c55e-4fda-8dc3-4bda6e813db2",
       "rows": [
        [
         "('densenet161', False, False)",
         "9"
        ],
        [
         "('densenet161', True, True)",
         "9"
        ],
        [
         "('resnet50[pretraining=inaturalist]', False, False)",
         "9"
        ],
        [
         "('resnet50[pretraining=inaturalist]', True, True)",
         "9"
        ],
        [
         "('vgg19', False, False)",
         "9"
        ],
        [
         "('vgg19', True, True)",
         "9"
        ]
       ],
       "shape": {
        "columns": 1,
        "rows": 6
       }
      },
      "text/html": [
       "<div>\n",
       "<style scoped>\n",
       "    .dataframe tbody tr th:only-of-type {\n",
       "        vertical-align: middle;\n",
       "    }\n",
       "\n",
       "    .dataframe tbody tr th {\n",
       "        vertical-align: top;\n",
       "    }\n",
       "\n",
       "    .dataframe thead th {\n",
       "        text-align: right;\n",
       "    }\n",
       "</style>\n",
       "<table border=\"1\" class=\"dataframe\">\n",
       "  <thead>\n",
       "    <tr style=\"text-align: right;\">\n",
       "      <th></th>\n",
       "      <th></th>\n",
       "      <th></th>\n",
       "      <th>ref_path</th>\n",
       "    </tr>\n",
       "    <tr>\n",
       "      <th>backbone</th>\n",
       "      <th>class_cos_equals</th>\n",
       "      <th>class_l2_equals</th>\n",
       "      <th></th>\n",
       "    </tr>\n",
       "  </thead>\n",
       "  <tbody>\n",
       "    <tr>\n",
       "      <th rowspan=\"2\" valign=\"top\">densenet161</th>\n",
       "      <th>False</th>\n",
       "      <th>False</th>\n",
       "      <td>9</td>\n",
       "    </tr>\n",
       "    <tr>\n",
       "      <th>True</th>\n",
       "      <th>True</th>\n",
       "      <td>9</td>\n",
       "    </tr>\n",
       "    <tr>\n",
       "      <th rowspan=\"2\" valign=\"top\">resnet50[pretraining=inaturalist]</th>\n",
       "      <th>False</th>\n",
       "      <th>False</th>\n",
       "      <td>9</td>\n",
       "    </tr>\n",
       "    <tr>\n",
       "      <th>True</th>\n",
       "      <th>True</th>\n",
       "      <td>9</td>\n",
       "    </tr>\n",
       "    <tr>\n",
       "      <th rowspan=\"2\" valign=\"top\">vgg19</th>\n",
       "      <th>False</th>\n",
       "      <th>False</th>\n",
       "      <td>9</td>\n",
       "    </tr>\n",
       "    <tr>\n",
       "      <th>True</th>\n",
       "      <th>True</th>\n",
       "      <td>9</td>\n",
       "    </tr>\n",
       "  </tbody>\n",
       "</table>\n",
       "</div>"
      ],
      "text/plain": [
       "                                                                    ref_path\n",
       "backbone                          class_cos_equals class_l2_equals          \n",
       "densenet161                       False            False                   9\n",
       "                                  True             True                    9\n",
       "resnet50[pretraining=inaturalist] False            False                   9\n",
       "                                  True             True                    9\n",
       "vgg19                             False            False                   9\n",
       "                                  True             True                    9"
      ]
     },
     "execution_count": 330,
     "metadata": {},
     "output_type": "execute_result"
    }
   ],
   "source": [
    "selected_samples.groupby(['backbone', 'class_cos_equals', 'class_l2_equals']).count()[['ref_path']]"
   ]
  },
  {
   "cell_type": "code",
   "execution_count": 331,
   "metadata": {},
   "outputs": [
    {
     "data": {
      "application/vnd.microsoft.datawrangler.viewer.v0+json": {
       "columns": [
        {
         "name": "class_ref",
         "rawType": "object",
         "type": "string"
        },
        {
         "name": "ref_path",
         "rawType": "int64",
         "type": "integer"
        }
       ],
       "conversionMethod": "pd.DataFrame",
       "ref": "ba571550-7c26-436e-91a9-3441e1943b1a",
       "rows": [
        [
         "055.Evening_Grosbeak",
         "2"
        ],
        [
         "179.Tennessee_Warbler",
         "2"
        ],
        [
         "066.Western_Gull",
         "2"
        ],
        [
         "001.Black_footed_Albatross",
         "1"
        ],
        [
         "129.Song_Sparrow",
         "1"
        ],
        [
         "131.Vesper_Sparrow",
         "1"
        ],
        [
         "137.Cliff_Swallow",
         "1"
        ],
        [
         "142.Black_Tern",
         "1"
        ],
        [
         "143.Caspian_Tern",
         "1"
        ],
        [
         "150.Sage_Thrasher",
         "1"
        ],
        [
         "151.Black_capped_Vireo",
         "1"
        ],
        [
         "154.Red_eyed_Vireo",
         "1"
        ],
        [
         "157.Yellow_throated_Vireo",
         "1"
        ],
        [
         "159.Black_and_white_Warbler",
         "1"
        ],
        [
         "127.Savannah_Sparrow",
         "1"
        ],
        [
         "160.Black_throated_Blue_Warbler",
         "1"
        ],
        [
         "161.Blue_winged_Warbler",
         "1"
        ],
        [
         "165.Chestnut_sided_Warbler",
         "1"
        ],
        [
         "170.Mourning_Warbler",
         "1"
        ],
        [
         "173.Orange_crowned_Warbler",
         "1"
        ],
        [
         "174.Palm_Warbler",
         "1"
        ],
        [
         "175.Pine_Warbler",
         "1"
        ],
        [
         "177.Prothonotary_Warbler",
         "1"
        ],
        [
         "178.Swainson_Warbler",
         "1"
        ],
        [
         "191.Red_headed_Woodpecker",
         "1"
        ],
        [
         "128.Seaside_Sparrow",
         "1"
        ],
        [
         "103.Sayornis",
         "1"
        ],
        [
         "126.Nelson_Sharp_tailed_Sparrow",
         "1"
        ],
        [
         "002.Laysan_Albatross",
         "1"
        ],
        [
         "003.Sooty_Albatross",
         "1"
        ],
        [
         "009.Brewer_Blackbird",
         "1"
        ],
        [
         "010.Red_winged_Blackbird",
         "1"
        ],
        [
         "012.Yellow_headed_Blackbird",
         "1"
        ],
        [
         "013.Bobolink",
         "1"
        ],
        [
         "014.Indigo_Bunting",
         "1"
        ],
        [
         "020.Yellow_breasted_Chat",
         "1"
        ],
        [
         "023.Brandt_Cormorant",
         "1"
        ],
        [
         "028.Brown_Creeper",
         "1"
        ],
        [
         "029.American_Crow",
         "1"
        ],
        [
         "042.Vermilion_Flycatcher",
         "1"
        ],
        [
         "046.Gadwall",
         "1"
        ],
        [
         "057.Rose_breasted_Grosbeak",
         "1"
        ],
        [
         "059.California_Gull",
         "1"
        ],
        [
         "069.Rufous_Hummingbird",
         "1"
        ],
        [
         "076.Dark_eyed_Junco",
         "1"
        ],
        [
         "082.Ringed_Kingfisher",
         "1"
        ],
        [
         "086.Pacific_Loon",
         "1"
        ],
        [
         "089.Hooded_Merganser",
         "1"
        ],
        [
         "091.Mockingbird",
         "1"
        ],
        [
         "098.Scott_Oriole",
         "1"
        ]
       ],
       "shape": {
        "columns": 1,
        "rows": 51
       }
      },
      "text/html": [
       "<div>\n",
       "<style scoped>\n",
       "    .dataframe tbody tr th:only-of-type {\n",
       "        vertical-align: middle;\n",
       "    }\n",
       "\n",
       "    .dataframe tbody tr th {\n",
       "        vertical-align: top;\n",
       "    }\n",
       "\n",
       "    .dataframe thead th {\n",
       "        text-align: right;\n",
       "    }\n",
       "</style>\n",
       "<table border=\"1\" class=\"dataframe\">\n",
       "  <thead>\n",
       "    <tr style=\"text-align: right;\">\n",
       "      <th></th>\n",
       "      <th>ref_path</th>\n",
       "    </tr>\n",
       "    <tr>\n",
       "      <th>class_ref</th>\n",
       "      <th></th>\n",
       "    </tr>\n",
       "  </thead>\n",
       "  <tbody>\n",
       "    <tr>\n",
       "      <th>055.Evening_Grosbeak</th>\n",
       "      <td>2</td>\n",
       "    </tr>\n",
       "    <tr>\n",
       "      <th>179.Tennessee_Warbler</th>\n",
       "      <td>2</td>\n",
       "    </tr>\n",
       "    <tr>\n",
       "      <th>066.Western_Gull</th>\n",
       "      <td>2</td>\n",
       "    </tr>\n",
       "    <tr>\n",
       "      <th>001.Black_footed_Albatross</th>\n",
       "      <td>1</td>\n",
       "    </tr>\n",
       "    <tr>\n",
       "      <th>129.Song_Sparrow</th>\n",
       "      <td>1</td>\n",
       "    </tr>\n",
       "    <tr>\n",
       "      <th>131.Vesper_Sparrow</th>\n",
       "      <td>1</td>\n",
       "    </tr>\n",
       "    <tr>\n",
       "      <th>137.Cliff_Swallow</th>\n",
       "      <td>1</td>\n",
       "    </tr>\n",
       "    <tr>\n",
       "      <th>142.Black_Tern</th>\n",
       "      <td>1</td>\n",
       "    </tr>\n",
       "    <tr>\n",
       "      <th>143.Caspian_Tern</th>\n",
       "      <td>1</td>\n",
       "    </tr>\n",
       "    <tr>\n",
       "      <th>150.Sage_Thrasher</th>\n",
       "      <td>1</td>\n",
       "    </tr>\n",
       "    <tr>\n",
       "      <th>151.Black_capped_Vireo</th>\n",
       "      <td>1</td>\n",
       "    </tr>\n",
       "    <tr>\n",
       "      <th>154.Red_eyed_Vireo</th>\n",
       "      <td>1</td>\n",
       "    </tr>\n",
       "    <tr>\n",
       "      <th>157.Yellow_throated_Vireo</th>\n",
       "      <td>1</td>\n",
       "    </tr>\n",
       "    <tr>\n",
       "      <th>159.Black_and_white_Warbler</th>\n",
       "      <td>1</td>\n",
       "    </tr>\n",
       "    <tr>\n",
       "      <th>127.Savannah_Sparrow</th>\n",
       "      <td>1</td>\n",
       "    </tr>\n",
       "    <tr>\n",
       "      <th>160.Black_throated_Blue_Warbler</th>\n",
       "      <td>1</td>\n",
       "    </tr>\n",
       "    <tr>\n",
       "      <th>161.Blue_winged_Warbler</th>\n",
       "      <td>1</td>\n",
       "    </tr>\n",
       "    <tr>\n",
       "      <th>165.Chestnut_sided_Warbler</th>\n",
       "      <td>1</td>\n",
       "    </tr>\n",
       "    <tr>\n",
       "      <th>170.Mourning_Warbler</th>\n",
       "      <td>1</td>\n",
       "    </tr>\n",
       "    <tr>\n",
       "      <th>173.Orange_crowned_Warbler</th>\n",
       "      <td>1</td>\n",
       "    </tr>\n",
       "    <tr>\n",
       "      <th>174.Palm_Warbler</th>\n",
       "      <td>1</td>\n",
       "    </tr>\n",
       "    <tr>\n",
       "      <th>175.Pine_Warbler</th>\n",
       "      <td>1</td>\n",
       "    </tr>\n",
       "    <tr>\n",
       "      <th>177.Prothonotary_Warbler</th>\n",
       "      <td>1</td>\n",
       "    </tr>\n",
       "    <tr>\n",
       "      <th>178.Swainson_Warbler</th>\n",
       "      <td>1</td>\n",
       "    </tr>\n",
       "    <tr>\n",
       "      <th>191.Red_headed_Woodpecker</th>\n",
       "      <td>1</td>\n",
       "    </tr>\n",
       "    <tr>\n",
       "      <th>128.Seaside_Sparrow</th>\n",
       "      <td>1</td>\n",
       "    </tr>\n",
       "    <tr>\n",
       "      <th>103.Sayornis</th>\n",
       "      <td>1</td>\n",
       "    </tr>\n",
       "    <tr>\n",
       "      <th>126.Nelson_Sharp_tailed_Sparrow</th>\n",
       "      <td>1</td>\n",
       "    </tr>\n",
       "    <tr>\n",
       "      <th>002.Laysan_Albatross</th>\n",
       "      <td>1</td>\n",
       "    </tr>\n",
       "    <tr>\n",
       "      <th>003.Sooty_Albatross</th>\n",
       "      <td>1</td>\n",
       "    </tr>\n",
       "    <tr>\n",
       "      <th>009.Brewer_Blackbird</th>\n",
       "      <td>1</td>\n",
       "    </tr>\n",
       "    <tr>\n",
       "      <th>010.Red_winged_Blackbird</th>\n",
       "      <td>1</td>\n",
       "    </tr>\n",
       "    <tr>\n",
       "      <th>012.Yellow_headed_Blackbird</th>\n",
       "      <td>1</td>\n",
       "    </tr>\n",
       "    <tr>\n",
       "      <th>013.Bobolink</th>\n",
       "      <td>1</td>\n",
       "    </tr>\n",
       "    <tr>\n",
       "      <th>014.Indigo_Bunting</th>\n",
       "      <td>1</td>\n",
       "    </tr>\n",
       "    <tr>\n",
       "      <th>020.Yellow_breasted_Chat</th>\n",
       "      <td>1</td>\n",
       "    </tr>\n",
       "    <tr>\n",
       "      <th>023.Brandt_Cormorant</th>\n",
       "      <td>1</td>\n",
       "    </tr>\n",
       "    <tr>\n",
       "      <th>028.Brown_Creeper</th>\n",
       "      <td>1</td>\n",
       "    </tr>\n",
       "    <tr>\n",
       "      <th>029.American_Crow</th>\n",
       "      <td>1</td>\n",
       "    </tr>\n",
       "    <tr>\n",
       "      <th>042.Vermilion_Flycatcher</th>\n",
       "      <td>1</td>\n",
       "    </tr>\n",
       "    <tr>\n",
       "      <th>046.Gadwall</th>\n",
       "      <td>1</td>\n",
       "    </tr>\n",
       "    <tr>\n",
       "      <th>057.Rose_breasted_Grosbeak</th>\n",
       "      <td>1</td>\n",
       "    </tr>\n",
       "    <tr>\n",
       "      <th>059.California_Gull</th>\n",
       "      <td>1</td>\n",
       "    </tr>\n",
       "    <tr>\n",
       "      <th>069.Rufous_Hummingbird</th>\n",
       "      <td>1</td>\n",
       "    </tr>\n",
       "    <tr>\n",
       "      <th>076.Dark_eyed_Junco</th>\n",
       "      <td>1</td>\n",
       "    </tr>\n",
       "    <tr>\n",
       "      <th>082.Ringed_Kingfisher</th>\n",
       "      <td>1</td>\n",
       "    </tr>\n",
       "    <tr>\n",
       "      <th>086.Pacific_Loon</th>\n",
       "      <td>1</td>\n",
       "    </tr>\n",
       "    <tr>\n",
       "      <th>089.Hooded_Merganser</th>\n",
       "      <td>1</td>\n",
       "    </tr>\n",
       "    <tr>\n",
       "      <th>091.Mockingbird</th>\n",
       "      <td>1</td>\n",
       "    </tr>\n",
       "    <tr>\n",
       "      <th>098.Scott_Oriole</th>\n",
       "      <td>1</td>\n",
       "    </tr>\n",
       "    <tr>\n",
       "      <th>196.House_Wren</th>\n",
       "      <td>1</td>\n",
       "    </tr>\n",
       "  </tbody>\n",
       "</table>\n",
       "</div>"
      ],
      "text/plain": [
       "                                 ref_path\n",
       "class_ref                                \n",
       "055.Evening_Grosbeak                    2\n",
       "179.Tennessee_Warbler                   2\n",
       "066.Western_Gull                        2\n",
       "001.Black_footed_Albatross              1\n",
       "129.Song_Sparrow                        1\n",
       "131.Vesper_Sparrow                      1\n",
       "137.Cliff_Swallow                       1\n",
       "142.Black_Tern                          1\n",
       "143.Caspian_Tern                        1\n",
       "150.Sage_Thrasher                       1\n",
       "151.Black_capped_Vireo                  1\n",
       "154.Red_eyed_Vireo                      1\n",
       "157.Yellow_throated_Vireo               1\n",
       "159.Black_and_white_Warbler             1\n",
       "127.Savannah_Sparrow                    1\n",
       "160.Black_throated_Blue_Warbler         1\n",
       "161.Blue_winged_Warbler                 1\n",
       "165.Chestnut_sided_Warbler              1\n",
       "170.Mourning_Warbler                    1\n",
       "173.Orange_crowned_Warbler              1\n",
       "174.Palm_Warbler                        1\n",
       "175.Pine_Warbler                        1\n",
       "177.Prothonotary_Warbler                1\n",
       "178.Swainson_Warbler                    1\n",
       "191.Red_headed_Woodpecker               1\n",
       "128.Seaside_Sparrow                     1\n",
       "103.Sayornis                            1\n",
       "126.Nelson_Sharp_tailed_Sparrow         1\n",
       "002.Laysan_Albatross                    1\n",
       "003.Sooty_Albatross                     1\n",
       "009.Brewer_Blackbird                    1\n",
       "010.Red_winged_Blackbird                1\n",
       "012.Yellow_headed_Blackbird             1\n",
       "013.Bobolink                            1\n",
       "014.Indigo_Bunting                      1\n",
       "020.Yellow_breasted_Chat                1\n",
       "023.Brandt_Cormorant                    1\n",
       "028.Brown_Creeper                       1\n",
       "029.American_Crow                       1\n",
       "042.Vermilion_Flycatcher                1\n",
       "046.Gadwall                             1\n",
       "057.Rose_breasted_Grosbeak              1\n",
       "059.California_Gull                     1\n",
       "069.Rufous_Hummingbird                  1\n",
       "076.Dark_eyed_Junco                     1\n",
       "082.Ringed_Kingfisher                   1\n",
       "086.Pacific_Loon                        1\n",
       "089.Hooded_Merganser                    1\n",
       "091.Mockingbird                         1\n",
       "098.Scott_Oriole                        1\n",
       "196.House_Wren                          1"
      ]
     },
     "execution_count": 331,
     "metadata": {},
     "output_type": "execute_result"
    }
   ],
   "source": [
    "selected_samples.groupby(['class_ref']).count()[['ref_path']].sort_values('ref_path', ascending=False)"
   ]
  },
  {
   "cell_type": "code",
   "execution_count": 332,
   "metadata": {},
   "outputs": [
    {
     "data": {
      "text/plain": [
       "ref_path          52\n",
       "proto_path_cos    54\n",
       "proto_path_l2     54\n",
       "dtype: int64"
      ]
     },
     "execution_count": 332,
     "metadata": {},
     "output_type": "execute_result"
    }
   ],
   "source": [
    "selected_samples[['ref_path', 'proto_path_cos', 'proto_path_l2']].nunique()"
   ]
  },
  {
   "cell_type": "code",
   "execution_count": 333,
   "metadata": {},
   "outputs": [],
   "source": [
    "selected_samples.sample(frac=1.0).to_csv('user_study/user-samples.csv')"
   ]
  },
  {
   "cell_type": "markdown",
   "metadata": {},
   "source": [
    "```{bash}\n",
    "export STUDY_CSV_TRIPLET_PATH=user_study/user-samples.csv\n",
    "export STUDY_OUTPUT_DIR=$STUDY_DIR/user-samples\n",
    "python user_study/process_images.py\n",
    "```"
   ]
  },
  {
   "cell_type": "markdown",
   "metadata": {},
   "source": [
    "## Generate \"Bad\" Pairs for Attention Checks\n",
    "Note that these are manually reviewed to make sure they are completely unambiguous."
   ]
  },
  {
   "cell_type": "code",
   "execution_count": null,
   "metadata": {},
   "outputs": [],
   "source": [
    "leftover_samples = compiled_boxes[~compiled_boxes.index.isin(selected_samples.index)].copy()\n",
    "leftover_samples"
   ]
  },
  {
   "cell_type": "code",
   "execution_count": null,
   "metadata": {},
   "outputs": [],
   "source": [
    "leftover_samples.columns"
   ]
  },
  {
   "cell_type": "code",
   "execution_count": null,
   "metadata": {},
   "outputs": [],
   "source": [
    "leftover_samples['per_diff'] = abs(leftover_samples['option_l2_act_percs'] - leftover_samples['option_cos_act_percs'])\n",
    "# find examples where one class matches and the other doesn't\n",
    "diff_class_samples = leftover_samples[(leftover_samples['option_cos_class'] != leftover_samples['option_l2_class']) & (leftover_samples['class_cos_equals'] | leftover_samples['class_l2_equals'])]\n",
    "diff_class_samples = diff_class_samples.sort_values('per_diff', ascending=False)\n",
    "diff_class_samples"
   ]
  },
  {
   "cell_type": "code",
   "execution_count": null,
   "metadata": {},
   "outputs": [],
   "source": [
    "# manually inspect the results\n",
    "diff_class_samples.head(100).to_csv('user_study/attention-samples.csv')"
   ]
  },
  {
   "cell_type": "markdown",
   "metadata": {},
   "source": [
    "```{bash}\n",
    "export STUDY_CSV_TRIPLET_PATH=user_study/attention-samples.csv\n",
    "export STUDY_OUTPUT_DIR=$STUDY_DIR/attention-samples\n",
    "python user_study/process_images.py\n",
    "```"
   ]
  }
 ],
 "metadata": {
  "kernelspec": {
   "display_name": "protopnext",
   "language": "python",
   "name": "python3"
  },
  "language_info": {
   "codemirror_mode": {
    "name": "ipython",
    "version": 3
   },
   "file_extension": ".py",
   "mimetype": "text/x-python",
   "name": "python",
   "nbconvert_exporter": "python",
   "pygments_lexer": "ipython3",
   "version": "3.8.20"
  }
 },
 "nbformat": 4,
 "nbformat_minor": 2
}
