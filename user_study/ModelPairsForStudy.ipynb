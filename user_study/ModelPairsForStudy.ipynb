{
 "cells": [
  {
   "cell_type": "code",
   "execution_count": null,
   "metadata": {},
   "outputs": [
    {
     "name": "stderr",
     "output_type": "stream",
     "text": [
      "100%|██████████| 9161/9161 [01:31<00:00, 99.65it/s] \n"
     ]
    }
   ],
   "source": [
    "import pandas as pd \n",
    "import wandb\n",
    "import tqdm\n",
    "import os\n",
    "api = wandb.Api()\n",
    "\n",
    "# Project is specified by <entity/project-name>\n",
    "runs = api.runs(os.environ['WANDB_ENTITY'] + \"/\" + os.environ['WANDB_RUN_PROJECT'])\n",
    "\n",
    "rows = []\n",
    "for run in tqdm.tqdm(runs): \n",
    "    # .summary contains the output keys/values for metrics like accuracy.\n",
    "    #  We call ._json_dict to omit large files \n",
    "    summary = run.summary._json_dict\n",
    "\n",
    "    # .config contains the hyperparameters.\n",
    "    #  We remove special values that start with _.\n",
    "    config = {k: v for k,v in run.config.items()\n",
    "            if not k.startswith('_')}\n",
    "\n",
    "    maybe_sweep_id = {\"sweep_id\": run.sweep.id} if run.sweep else {}\n",
    "\n",
    "    rows.append({\n",
    "        \"name\": run.name,\n",
    "        **config,\n",
    "        **summary,\n",
    "        **maybe_sweep_id\n",
    "    })\n",
    "\n",
    "runs_df = pd.DataFrame.from_records(rows)"
   ]
  },
  {
   "cell_type": "code",
   "execution_count": 50,
   "metadata": {},
   "outputs": [
    {
     "data": {
      "application/vnd.microsoft.datawrangler.viewer.v0+json": {
       "columns": [
        {
         "name": "('activation_function', 'backbone')",
         "rawType": "object",
         "type": "unknown"
        },
        {
         "name": "name",
         "rawType": "int64",
         "type": "integer"
        }
       ],
       "conversionMethod": "pd.DataFrame",
       "ref": "ee3bd4e3-de62-485b-ac09-508b564c023e",
       "rows": [
        [
         "('cosine', 'densenet161')",
         "130"
        ],
        [
         "('cosine', 'resnet50')",
         "180"
        ],
        [
         "('cosine', 'resnet50[pretraining=inaturalist]')",
         "222"
        ],
        [
         "('cosine', 'vgg19')",
         "163"
        ],
        [
         "('l2', 'densenet161')",
         "103"
        ],
        [
         "('l2', 'resnet50')",
         "158"
        ],
        [
         "('l2', 'resnet50[pretraining=inaturalist]')",
         "187"
        ],
        [
         "('l2', 'vgg19')",
         "151"
        ]
       ],
       "shape": {
        "columns": 1,
        "rows": 8
       }
      },
      "text/html": [
       "<div>\n",
       "<style scoped>\n",
       "    .dataframe tbody tr th:only-of-type {\n",
       "        vertical-align: middle;\n",
       "    }\n",
       "\n",
       "    .dataframe tbody tr th {\n",
       "        vertical-align: top;\n",
       "    }\n",
       "\n",
       "    .dataframe thead th {\n",
       "        text-align: right;\n",
       "    }\n",
       "</style>\n",
       "<table border=\"1\" class=\"dataframe\">\n",
       "  <thead>\n",
       "    <tr style=\"text-align: right;\">\n",
       "      <th></th>\n",
       "      <th></th>\n",
       "      <th>name</th>\n",
       "    </tr>\n",
       "    <tr>\n",
       "      <th>activation_function</th>\n",
       "      <th>backbone</th>\n",
       "      <th></th>\n",
       "    </tr>\n",
       "  </thead>\n",
       "  <tbody>\n",
       "    <tr>\n",
       "      <th rowspan=\"4\" valign=\"top\">cosine</th>\n",
       "      <th>densenet161</th>\n",
       "      <td>130</td>\n",
       "    </tr>\n",
       "    <tr>\n",
       "      <th>resnet50</th>\n",
       "      <td>180</td>\n",
       "    </tr>\n",
       "    <tr>\n",
       "      <th>resnet50[pretraining=inaturalist]</th>\n",
       "      <td>222</td>\n",
       "    </tr>\n",
       "    <tr>\n",
       "      <th>vgg19</th>\n",
       "      <td>163</td>\n",
       "    </tr>\n",
       "    <tr>\n",
       "      <th rowspan=\"4\" valign=\"top\">l2</th>\n",
       "      <th>densenet161</th>\n",
       "      <td>103</td>\n",
       "    </tr>\n",
       "    <tr>\n",
       "      <th>resnet50</th>\n",
       "      <td>158</td>\n",
       "    </tr>\n",
       "    <tr>\n",
       "      <th>resnet50[pretraining=inaturalist]</th>\n",
       "      <td>187</td>\n",
       "    </tr>\n",
       "    <tr>\n",
       "      <th>vgg19</th>\n",
       "      <td>151</td>\n",
       "    </tr>\n",
       "  </tbody>\n",
       "</table>\n",
       "</div>"
      ],
      "text/plain": [
       "                                                       name\n",
       "activation_function backbone                               \n",
       "cosine              densenet161                         130\n",
       "                    resnet50                            180\n",
       "                    resnet50[pretraining=inaturalist]   222\n",
       "                    vgg19                               163\n",
       "l2                  densenet161                         103\n",
       "                    resnet50                            158\n",
       "                    resnet50[pretraining=inaturalist]   187\n",
       "                    vgg19                               151"
      ]
     },
     "execution_count": 50,
     "metadata": {},
     "output_type": "execute_result"
    }
   ],
   "source": [
    "cropped = runs_df[runs_df['dataset'] == 'cub200_cropped']\n",
    "\n",
    "cropped = cropped[~cropped['best_model'].isna()]\n",
    "cropped_cos = cropped[cropped['activation_function'] == 'cosine'].copy()\n",
    "cropped_l2 = cropped[cropped['activation_function'] == 'l2'].copy()\n",
    "\n",
    "cropped.groupby(['activation_function', 'backbone']).count()[['name']]"
   ]
  },
  {
   "cell_type": "code",
   "execution_count": null,
   "metadata": {},
   "outputs": [],
   "source": [
    "def merge_one_to_one(df1, df2, suffixes=(\"_x\", \"_y\"), acc_col='best[prototypes_embedded]/eval/accuracy', backbone_col='backbone'):\n",
    "    # Create working copies\n",
    "    left = df1.copy().sort_values(acc_col, ascending=False)\n",
    "    right = df2.copy().sort_values(acc_col, ascending=False)\n",
    "    \n",
    "    matched_pairs = []\n",
    "    \n",
    "    # For each row in left dataframe\n",
    "    for _, left_row in left.iterrows():\n",
    "        # Find all potential matches in right with same backbone\n",
    "        potential_matches = right[right[backbone_col] == left_row[backbone_col]]\n",
    "        \n",
    "        if len(potential_matches) > 0:\n",
    "            # Calculate time differences\n",
    "            time_diffs = abs(potential_matches[acc_col] - left_row[acc_col])\n",
    "            \n",
    "            # Find the closest unused match\n",
    "            best_match_idx = time_diffs.idxmin()\n",
    "            \n",
    "            # Add to matched pairs\n",
    "            matched_pairs.append({\n",
    "                **{f'{k}{suffixes[0]}': v for k, v in left_row.to_dict().items() if k != backbone_col},\n",
    "                **{f'{k}{suffixes[1]}': v for k, v in potential_matches.loc[best_match_idx].to_dict().items() if k != backbone_col},\n",
    "                **{backbone_col: left_row[backbone_col]}\n",
    "            })\n",
    "            \n",
    "            # Remove the used match from right\n",
    "            right = right.drop(best_match_idx)\n",
    "    \n",
    "    return pd.DataFrame(matched_pairs)\n",
    "\n",
    "cropped_coxXl2_df = merge_one_to_one(cropped_cos, cropped_l2, suffixes=('_cos', '_l2'), backbone_col='backbone')\n",
    "cropped_coxXl2_df = cropped_coxXl2_df.sort_values('best[prototypes_embedded]/eval/accuracy_cos', ascending=False)\n",
    "cropped_coxXl2_df[['best[prototypes_embedded]/eval/accuracy_cos', 'best[prototypes_embedded]/eval/accuracy_l2']]"
   ]
  },
  {
   "cell_type": "code",
   "execution_count": null,
   "metadata": {},
   "outputs": [],
   "source": [
    "selected_df = cropped_coxXl2_df.sort_values('best[prototypes_embedded]/eval/accuracy_l2', ascending=False).copy()\n",
    "selected_df = selected_df[selected_df['backbone'] != 'resnet50']\n",
    "selected_df"
   ]
  },
  {
   "cell_type": "code",
   "execution_count": 69,
   "metadata": {},
   "outputs": [
    {
     "data": {
      "application/vnd.microsoft.datawrangler.viewer.v0+json": {
       "columns": [
        {
         "name": "backbone",
         "rawType": "object",
         "type": "string"
        },
        {
         "name": "name_cos",
         "rawType": "int64",
         "type": "integer"
        },
        {
         "name": "name_l2",
         "rawType": "int64",
         "type": "integer"
        }
       ],
       "conversionMethod": "pd.DataFrame",
       "ref": "8d370eed-6a04-4a60-8072-b631f53e7d3a",
       "rows": [
        [
         "densenet161",
         "103",
         "103"
        ],
        [
         "resnet50[pretraining=inaturalist]",
         "187",
         "187"
        ],
        [
         "vgg19",
         "151",
         "151"
        ]
       ],
       "shape": {
        "columns": 2,
        "rows": 3
       }
      },
      "text/html": [
       "<div>\n",
       "<style scoped>\n",
       "    .dataframe tbody tr th:only-of-type {\n",
       "        vertical-align: middle;\n",
       "    }\n",
       "\n",
       "    .dataframe tbody tr th {\n",
       "        vertical-align: top;\n",
       "    }\n",
       "\n",
       "    .dataframe thead th {\n",
       "        text-align: right;\n",
       "    }\n",
       "</style>\n",
       "<table border=\"1\" class=\"dataframe\">\n",
       "  <thead>\n",
       "    <tr style=\"text-align: right;\">\n",
       "      <th></th>\n",
       "      <th>name_cos</th>\n",
       "      <th>name_l2</th>\n",
       "    </tr>\n",
       "    <tr>\n",
       "      <th>backbone</th>\n",
       "      <th></th>\n",
       "      <th></th>\n",
       "    </tr>\n",
       "  </thead>\n",
       "  <tbody>\n",
       "    <tr>\n",
       "      <th>densenet161</th>\n",
       "      <td>103</td>\n",
       "      <td>103</td>\n",
       "    </tr>\n",
       "    <tr>\n",
       "      <th>resnet50[pretraining=inaturalist]</th>\n",
       "      <td>187</td>\n",
       "      <td>187</td>\n",
       "    </tr>\n",
       "    <tr>\n",
       "      <th>vgg19</th>\n",
       "      <td>151</td>\n",
       "      <td>151</td>\n",
       "    </tr>\n",
       "  </tbody>\n",
       "</table>\n",
       "</div>"
      ],
      "text/plain": [
       "                                   name_cos  name_l2\n",
       "backbone                                            \n",
       "densenet161                             103      103\n",
       "resnet50[pretraining=inaturalist]       187      187\n",
       "vgg19                                   151      151"
      ]
     },
     "execution_count": 69,
     "metadata": {},
     "output_type": "execute_result"
    }
   ],
   "source": [
    "selected_df.groupby('backbone')[['name_cos', 'name_l2']].nunique()"
   ]
  },
  {
   "cell_type": "code",
   "execution_count": 77,
   "metadata": {},
   "outputs": [
    {
     "data": {
      "application/vnd.microsoft.datawrangler.viewer.v0+json": {
       "columns": [
        {
         "name": "backbone",
         "rawType": "object",
         "type": "string"
        },
        {
         "name": "name_cos",
         "rawType": "int64",
         "type": "integer"
        },
        {
         "name": "name_l2",
         "rawType": "int64",
         "type": "integer"
        }
       ],
       "conversionMethod": "pd.DataFrame",
       "ref": "21d12250-bf4b-4944-b4aa-b61f7969a34c",
       "rows": [
        [
         "densenet161",
         "40",
         "40"
        ],
        [
         "resnet50[pretraining=inaturalist]",
         "40",
         "40"
        ],
        [
         "vgg19",
         "40",
         "40"
        ]
       ],
       "shape": {
        "columns": 2,
        "rows": 3
       }
      },
      "text/html": [
       "<div>\n",
       "<style scoped>\n",
       "    .dataframe tbody tr th:only-of-type {\n",
       "        vertical-align: middle;\n",
       "    }\n",
       "\n",
       "    .dataframe tbody tr th {\n",
       "        vertical-align: top;\n",
       "    }\n",
       "\n",
       "    .dataframe thead th {\n",
       "        text-align: right;\n",
       "    }\n",
       "</style>\n",
       "<table border=\"1\" class=\"dataframe\">\n",
       "  <thead>\n",
       "    <tr style=\"text-align: right;\">\n",
       "      <th></th>\n",
       "      <th>name_cos</th>\n",
       "      <th>name_l2</th>\n",
       "    </tr>\n",
       "    <tr>\n",
       "      <th>backbone</th>\n",
       "      <th></th>\n",
       "      <th></th>\n",
       "    </tr>\n",
       "  </thead>\n",
       "  <tbody>\n",
       "    <tr>\n",
       "      <th>densenet161</th>\n",
       "      <td>40</td>\n",
       "      <td>40</td>\n",
       "    </tr>\n",
       "    <tr>\n",
       "      <th>resnet50[pretraining=inaturalist]</th>\n",
       "      <td>40</td>\n",
       "      <td>40</td>\n",
       "    </tr>\n",
       "    <tr>\n",
       "      <th>vgg19</th>\n",
       "      <td>40</td>\n",
       "      <td>40</td>\n",
       "    </tr>\n",
       "  </tbody>\n",
       "</table>\n",
       "</div>"
      ],
      "text/plain": [
       "                                   name_cos  name_l2\n",
       "backbone                                            \n",
       "densenet161                              40       40\n",
       "resnet50[pretraining=inaturalist]        40       40\n",
       "vgg19                                    40       40"
      ]
     },
     "execution_count": 77,
     "metadata": {},
     "output_type": "execute_result"
    }
   ],
   "source": [
    "new_df = pd.DataFrame()\n",
    "for g, df in selected_df.groupby('backbone'):\n",
    "    sample_df = df.sort_values('best[prototypes_embedded]/eval/accuracy_cos', ascending=False).head(40)\n",
    "    new_df = pd.concat([new_df, sample_df])\n",
    "\n",
    "new_df.groupby('backbone')[['name_cos', 'name_l2']].nunique()"
   ]
  },
  {
   "cell_type": "code",
   "execution_count": null,
   "metadata": {},
   "outputs": [],
   "source": [
    "new_df[['backbone', 'name_cos', 'name_l2', 'best[prototypes_embedded]/eval/accuracy_cos', 'best[prototypes_embedded]/eval/accuracy_l2']]"
   ]
  },
  {
   "cell_type": "code",
   "execution_count": 76,
   "metadata": {},
   "outputs": [],
   "source": [
    "new_df.to_csv(\"user_study/model-pairs.csv\")"
   ]
  },
  {
   "cell_type": "code",
   "execution_count": null,
   "metadata": {},
   "outputs": [],
   "source": []
  }
 ],
 "metadata": {
  "kernelspec": {
   "display_name": "protopnext",
   "language": "python",
   "name": "python3"
  },
  "language_info": {
   "codemirror_mode": {
    "name": "ipython",
    "version": 3
   },
   "file_extension": ".py",
   "mimetype": "text/x-python",
   "name": "python",
   "nbconvert_exporter": "python",
   "pygments_lexer": "ipython3",
   "version": "3.8.20"
  }
 },
 "nbformat": 4,
 "nbformat_minor": 2
}
