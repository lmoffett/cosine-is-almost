{
 "cells": [
  {
   "cell_type": "markdown",
   "metadata": {},
   "source": [
    "# Export training and eval data\n",
    "\n",
    "This creates the `wandb-runsXsweepsXeval.csv` file that contains all the sweep and run metadata merged with the post-training evaluations, which is running the best model on the validation and test sets.\n",
    "During the original experiments, there were naming conventions due to there not being enough entropy in the run name generation.\n",
    "Much of this file deals with the problem of ensuring no name collisions cause results from one model to be attributed to another.\n",
    "In a small number of cases, no positive identification could be made, and so those training runs are omitted both from `wandb-runsXsweepsXeval.csv` and the reported results."
   ]
  },
  {
   "cell_type": "code",
   "execution_count": 122,
   "metadata": {},
   "outputs": [],
   "source": [
    "import pandas as pd"
   ]
  },
  {
   "cell_type": "code",
   "execution_count": null,
   "metadata": {},
   "outputs": [],
   "source": [
    "runs = pd.read_csv('analysis/wandb-runs.csv')\n",
    "print(runs.shape)\n",
    "sweeps = pd.read_csv('analysis/wandb-sweeps.csv')\n",
    "print(sweeps.shape)\n",
    "runsXsweeps = pd.merge(runs, sweeps, left_on='sweep_id', right_on='id', suffixes=('_run', '_sweep'))\n",
    "runsXsweeps"
   ]
  },
  {
   "cell_type": "code",
   "execution_count": 124,
   "metadata": {},
   "outputs": [
    {
     "data": {
      "text/plain": [
       "(11070, 225)"
      ]
     },
     "execution_count": 124,
     "metadata": {},
     "output_type": "execute_result"
    }
   ],
   "source": [
    "# exclude the sweeps that were optimized on the test set\n",
    "test_set_sweeps = ['w21pwzds', 'ta5rm3fd', 'a42hnw5d', '2p72lgel']\n",
    "runsXsweeps = runsXsweeps[~runsXsweeps['sweep_id'].isin(test_set_sweeps)]\n",
    "runsXsweeps.shape"
   ]
  },
  {
   "cell_type": "code",
   "execution_count": null,
   "metadata": {},
   "outputs": [],
   "source": [
    "import ast\n",
    "is_short = (runsXsweeps['config_command'].apply(ast.literal_eval).apply(lambda x: x[5]).str.split('/').str[1] == 'short')\n",
    "\n",
    "runsXsweeps['len'] = is_short.apply(lambda x: 'short' if x else 'long')\n",
    "runsXsweeps['model'] = runsXsweeps['config_name'].str.split(':').str[0].str.split('-').str[0]\n",
    "runsXsweeps['optimization'] = runsXsweeps['config_name'].str.contains('accproto').apply(lambda x: 'accproto' if x else 'accuracy')\n",
    "runsXsweeps.groupby(['model', 'optimization', 'len']).count()[['name_run']]"
   ]
  },
  {
   "cell_type": "code",
   "execution_count": 126,
   "metadata": {},
   "outputs": [
    {
     "data": {
      "application/vnd.microsoft.datawrangler.viewer.v0+json": {
       "columns": [
        {
         "name": "('backbone', 'activation_function')",
         "rawType": "object",
         "type": "unknown"
        },
        {
         "name": "('name_run', 'vanilla', 'cub200')",
         "rawType": "int64",
         "type": "integer"
        }
       ],
       "conversionMethod": "pd.DataFrame",
       "ref": "bb9fe8cd-8fa2-4fca-98b7-67ec76abe4a0",
       "rows": [
        [
         "('densenet161', 'cosine')",
         "158"
        ],
        [
         "('densenet161', 'l2')",
         "123"
        ],
        [
         "('resnet50[pretraining=inaturalist]', 'cosine')",
         "188"
        ],
        [
         "('resnet50[pretraining=inaturalist]', 'l2')",
         "164"
        ],
        [
         "('vgg19', 'cosine')",
         "177"
        ],
        [
         "('vgg19', 'l2')",
         "159"
        ]
       ],
       "shape": {
        "columns": 1,
        "rows": 6
       }
      },
      "text/html": [
       "<div>\n",
       "<style scoped>\n",
       "    .dataframe tbody tr th:only-of-type {\n",
       "        vertical-align: middle;\n",
       "    }\n",
       "\n",
       "    .dataframe tbody tr th {\n",
       "        vertical-align: top;\n",
       "    }\n",
       "\n",
       "    .dataframe thead tr th {\n",
       "        text-align: left;\n",
       "    }\n",
       "\n",
       "    .dataframe thead tr:last-of-type th {\n",
       "        text-align: right;\n",
       "    }\n",
       "</style>\n",
       "<table border=\"1\" class=\"dataframe\">\n",
       "  <thead>\n",
       "    <tr>\n",
       "      <th></th>\n",
       "      <th></th>\n",
       "      <th>name_run</th>\n",
       "    </tr>\n",
       "    <tr>\n",
       "      <th></th>\n",
       "      <th>model</th>\n",
       "      <th>vanilla</th>\n",
       "    </tr>\n",
       "    <tr>\n",
       "      <th></th>\n",
       "      <th>dataset</th>\n",
       "      <th>cub200</th>\n",
       "    </tr>\n",
       "    <tr>\n",
       "      <th>backbone</th>\n",
       "      <th>activation_function</th>\n",
       "      <th></th>\n",
       "    </tr>\n",
       "  </thead>\n",
       "  <tbody>\n",
       "    <tr>\n",
       "      <th rowspan=\"2\" valign=\"top\">densenet161</th>\n",
       "      <th>cosine</th>\n",
       "      <td>158</td>\n",
       "    </tr>\n",
       "    <tr>\n",
       "      <th>l2</th>\n",
       "      <td>123</td>\n",
       "    </tr>\n",
       "    <tr>\n",
       "      <th rowspan=\"2\" valign=\"top\">resnet50[pretraining=inaturalist]</th>\n",
       "      <th>cosine</th>\n",
       "      <td>188</td>\n",
       "    </tr>\n",
       "    <tr>\n",
       "      <th>l2</th>\n",
       "      <td>164</td>\n",
       "    </tr>\n",
       "    <tr>\n",
       "      <th rowspan=\"2\" valign=\"top\">vgg19</th>\n",
       "      <th>cosine</th>\n",
       "      <td>177</td>\n",
       "    </tr>\n",
       "    <tr>\n",
       "      <th>l2</th>\n",
       "      <td>159</td>\n",
       "    </tr>\n",
       "  </tbody>\n",
       "</table>\n",
       "</div>"
      ],
      "text/plain": [
       "                                                      name_run\n",
       "model                                                  vanilla\n",
       "dataset                                                 cub200\n",
       "backbone                          activation_function         \n",
       "densenet161                       cosine                   158\n",
       "                                  l2                       123\n",
       "resnet50[pretraining=inaturalist] cosine                   188\n",
       "                                  l2                       164\n",
       "vgg19                             cosine                   177\n",
       "                                  l2                       159"
      ]
     },
     "execution_count": 126,
     "metadata": {},
     "output_type": "execute_result"
    }
   ],
   "source": [
    "runsXsweeps[runsXsweeps['optimization'] == 'accproto'].groupby(['model', 'dataset', 'backbone', 'activation_function']).count()[['name_run']].unstack([0, 1])"
   ]
  },
  {
   "cell_type": "code",
   "execution_count": 127,
   "metadata": {},
   "outputs": [
    {
     "data": {
      "application/vnd.microsoft.datawrangler.viewer.v0+json": {
       "columns": [
        {
         "name": "('backbone', 'activation_function')",
         "rawType": "object",
         "type": "unknown"
        },
        {
         "name": "('name_run', 'vanilla', 'cars_cropped')",
         "rawType": "float64",
         "type": "float"
        },
        {
         "name": "('name_run', 'vanilla', 'cub200')",
         "rawType": "float64",
         "type": "float"
        },
        {
         "name": "('name_run', 'vanilla', 'cub200_cropped')",
         "rawType": "float64",
         "type": "float"
        },
        {
         "name": "('name_run', 'vanilla', 'dogs')",
         "rawType": "float64",
         "type": "float"
        }
       ],
       "conversionMethod": "pd.DataFrame",
       "ref": "c1921ef4-4328-40ee-b628-fc4e6a6c5a56",
       "rows": [
        [
         "('densenet161', 'cosine')",
         "134.0",
         "153.0",
         "190.0",
         "90.0"
        ],
        [
         "('densenet161', 'l2')",
         "81.0",
         "104.0",
         "132.0",
         "86.0"
        ],
        [
         "('resnet50', 'cosine')",
         "132.0",
         "179.0",
         "259.0",
         "120.0"
        ],
        [
         "('resnet50', 'l2')",
         "130.0",
         "143.0",
         "213.0",
         "113.0"
        ],
        [
         "('resnet50[pretraining=inaturalist]', 'cosine')",
         null,
         "195.0",
         "314.0",
         null
        ],
        [
         "('resnet50[pretraining=inaturalist]', 'l2')",
         null,
         "173.0",
         "239.0",
         null
        ],
        [
         "('vgg19', 'cosine')",
         "133.0",
         "169.0",
         "215.0",
         "121.0"
        ],
        [
         "('vgg19', 'l2')",
         "89.0",
         "145.0",
         "199.0",
         "121.0"
        ]
       ],
       "shape": {
        "columns": 4,
        "rows": 8
       }
      },
      "text/html": [
       "<div>\n",
       "<style scoped>\n",
       "    .dataframe tbody tr th:only-of-type {\n",
       "        vertical-align: middle;\n",
       "    }\n",
       "\n",
       "    .dataframe tbody tr th {\n",
       "        vertical-align: top;\n",
       "    }\n",
       "\n",
       "    .dataframe thead tr th {\n",
       "        text-align: left;\n",
       "    }\n",
       "\n",
       "    .dataframe thead tr:last-of-type th {\n",
       "        text-align: right;\n",
       "    }\n",
       "</style>\n",
       "<table border=\"1\" class=\"dataframe\">\n",
       "  <thead>\n",
       "    <tr>\n",
       "      <th></th>\n",
       "      <th></th>\n",
       "      <th colspan=\"4\" halign=\"left\">name_run</th>\n",
       "    </tr>\n",
       "    <tr>\n",
       "      <th></th>\n",
       "      <th>model</th>\n",
       "      <th colspan=\"4\" halign=\"left\">vanilla</th>\n",
       "    </tr>\n",
       "    <tr>\n",
       "      <th></th>\n",
       "      <th>dataset</th>\n",
       "      <th>cars_cropped</th>\n",
       "      <th>cub200</th>\n",
       "      <th>cub200_cropped</th>\n",
       "      <th>dogs</th>\n",
       "    </tr>\n",
       "    <tr>\n",
       "      <th>backbone</th>\n",
       "      <th>activation_function</th>\n",
       "      <th></th>\n",
       "      <th></th>\n",
       "      <th></th>\n",
       "      <th></th>\n",
       "    </tr>\n",
       "  </thead>\n",
       "  <tbody>\n",
       "    <tr>\n",
       "      <th rowspan=\"2\" valign=\"top\">densenet161</th>\n",
       "      <th>cosine</th>\n",
       "      <td>134.0</td>\n",
       "      <td>153.0</td>\n",
       "      <td>190.0</td>\n",
       "      <td>90.0</td>\n",
       "    </tr>\n",
       "    <tr>\n",
       "      <th>l2</th>\n",
       "      <td>81.0</td>\n",
       "      <td>104.0</td>\n",
       "      <td>132.0</td>\n",
       "      <td>86.0</td>\n",
       "    </tr>\n",
       "    <tr>\n",
       "      <th rowspan=\"2\" valign=\"top\">resnet50</th>\n",
       "      <th>cosine</th>\n",
       "      <td>132.0</td>\n",
       "      <td>179.0</td>\n",
       "      <td>259.0</td>\n",
       "      <td>120.0</td>\n",
       "    </tr>\n",
       "    <tr>\n",
       "      <th>l2</th>\n",
       "      <td>130.0</td>\n",
       "      <td>143.0</td>\n",
       "      <td>213.0</td>\n",
       "      <td>113.0</td>\n",
       "    </tr>\n",
       "    <tr>\n",
       "      <th rowspan=\"2\" valign=\"top\">resnet50[pretraining=inaturalist]</th>\n",
       "      <th>cosine</th>\n",
       "      <td>NaN</td>\n",
       "      <td>195.0</td>\n",
       "      <td>314.0</td>\n",
       "      <td>NaN</td>\n",
       "    </tr>\n",
       "    <tr>\n",
       "      <th>l2</th>\n",
       "      <td>NaN</td>\n",
       "      <td>173.0</td>\n",
       "      <td>239.0</td>\n",
       "      <td>NaN</td>\n",
       "    </tr>\n",
       "    <tr>\n",
       "      <th rowspan=\"2\" valign=\"top\">vgg19</th>\n",
       "      <th>cosine</th>\n",
       "      <td>133.0</td>\n",
       "      <td>169.0</td>\n",
       "      <td>215.0</td>\n",
       "      <td>121.0</td>\n",
       "    </tr>\n",
       "    <tr>\n",
       "      <th>l2</th>\n",
       "      <td>89.0</td>\n",
       "      <td>145.0</td>\n",
       "      <td>199.0</td>\n",
       "      <td>121.0</td>\n",
       "    </tr>\n",
       "  </tbody>\n",
       "</table>\n",
       "</div>"
      ],
      "text/plain": [
       "                                                          name_run         \\\n",
       "model                                                      vanilla          \n",
       "dataset                                               cars_cropped cub200   \n",
       "backbone                          activation_function                       \n",
       "densenet161                       cosine                     134.0  153.0   \n",
       "                                  l2                          81.0  104.0   \n",
       "resnet50                          cosine                     132.0  179.0   \n",
       "                                  l2                         130.0  143.0   \n",
       "resnet50[pretraining=inaturalist] cosine                       NaN  195.0   \n",
       "                                  l2                           NaN  173.0   \n",
       "vgg19                             cosine                     133.0  169.0   \n",
       "                                  l2                          89.0  145.0   \n",
       "\n",
       "                                                                             \n",
       "model                                                                        \n",
       "dataset                                               cub200_cropped   dogs  \n",
       "backbone                          activation_function                        \n",
       "densenet161                       cosine                       190.0   90.0  \n",
       "                                  l2                           132.0   86.0  \n",
       "resnet50                          cosine                       259.0  120.0  \n",
       "                                  l2                           213.0  113.0  \n",
       "resnet50[pretraining=inaturalist] cosine                       314.0    NaN  \n",
       "                                  l2                           239.0    NaN  \n",
       "vgg19                             cosine                       215.0  121.0  \n",
       "                                  l2                           199.0  121.0  "
      ]
     },
     "execution_count": 127,
     "metadata": {},
     "output_type": "execute_result"
    }
   ],
   "source": [
    "runsXsweeps[(runsXsweeps['optimization'] == 'accuracy') & (runsXsweeps['len'] == 'long')].groupby(['model', 'dataset', 'backbone', 'activation_function']).count()[['name_run']].unstack([0, 1])"
   ]
  },
  {
   "cell_type": "code",
   "execution_count": 128,
   "metadata": {},
   "outputs": [
    {
     "data": {
      "application/vnd.microsoft.datawrangler.viewer.v0+json": {
       "columns": [
        {
         "name": "('activation_function', 'backbone')",
         "rawType": "object",
         "type": "unknown"
        },
        {
         "name": "('name_run', 'deformable', 'cub200')",
         "rawType": "float64",
         "type": "float"
        },
        {
         "name": "('name_run', 'deformable', 'dogs')",
         "rawType": "float64",
         "type": "float"
        },
        {
         "name": "('name_run', 'prototree', 'cub200')",
         "rawType": "float64",
         "type": "float"
        },
        {
         "name": "('name_run', 'prototree', 'dogs')",
         "rawType": "float64",
         "type": "float"
        },
        {
         "name": "('name_run', 'st', 'cub200')",
         "rawType": "float64",
         "type": "float"
        },
        {
         "name": "('name_run', 'st', 'dogs')",
         "rawType": "float64",
         "type": "float"
        },
        {
         "name": "('name_run', 'tesnet', 'cub200')",
         "rawType": "float64",
         "type": "float"
        },
        {
         "name": "('name_run', 'tesnet', 'dogs')",
         "rawType": "float64",
         "type": "float"
        },
        {
         "name": "('name_run', 'vanilla', 'cars_cropped')",
         "rawType": "float64",
         "type": "float"
        },
        {
         "name": "('name_run', 'vanilla', 'cub200')",
         "rawType": "float64",
         "type": "float"
        },
        {
         "name": "('name_run', 'vanilla', 'cub200_cropped')",
         "rawType": "float64",
         "type": "float"
        },
        {
         "name": "('name_run', 'vanilla', 'dogs')",
         "rawType": "float64",
         "type": "float"
        }
       ],
       "conversionMethod": "pd.DataFrame",
       "ref": "909f4418-896c-4503-932e-2b246ea2630c",
       "rows": [
        [
         "('cosine', 'densenet161')",
         "167.0",
         "81.0",
         "27.0",
         "15.0",
         "99.0",
         "50.0",
         "88.0",
         "68.0",
         "61.0",
         "165.0",
         "98.0",
         "50.0"
        ],
        [
         "('cosine', 'resnet50')",
         null,
         "167.0",
         null,
         "68.0",
         null,
         "76.0",
         null,
         "76.0",
         null,
         null,
         "97.0",
         "87.0"
        ],
        [
         "('cosine', 'resnet50[pretraining=inaturalist]')",
         "139.0",
         null,
         "41.0",
         null,
         "135.0",
         null,
         "125.0",
         null,
         "77.0",
         "238.0",
         null,
         null
        ],
        [
         "('cosine', 'vgg19')",
         "106.0",
         "114.0",
         "51.0",
         "31.0",
         "64.0",
         "61.0",
         "75.0",
         "101.0",
         "55.0",
         "147.0",
         "103.0",
         "71.0"
        ],
        [
         "('exp_l2', 'densenet161')",
         null,
         null,
         "26.0",
         "14.0",
         null,
         null,
         null,
         null,
         null,
         null,
         null,
         null
        ],
        [
         "('exp_l2', 'resnet50')",
         null,
         null,
         null,
         "23.0",
         null,
         null,
         null,
         null,
         null,
         null,
         null,
         null
        ],
        [
         "('exp_l2', 'resnet50[pretraining=inaturalist]')",
         null,
         null,
         "144.0",
         null,
         null,
         null,
         null,
         null,
         null,
         null,
         null,
         null
        ],
        [
         "('exp_l2', 'vgg19')",
         null,
         null,
         "47.0",
         "22.0",
         null,
         null,
         null,
         null,
         null,
         null,
         null,
         null
        ],
        [
         "('l2', 'densenet161')",
         "136.0",
         "58.0",
         null,
         null,
         "57.0",
         "46.0",
         "62.0",
         "31.0",
         "42.0",
         "44.0",
         "58.0",
         "64.0"
        ],
        [
         "('l2', 'resnet50')",
         null,
         "135.0",
         null,
         null,
         null,
         "59.0",
         null,
         "45.0",
         null,
         null,
         "58.0",
         "68.0"
        ],
        [
         "('l2', 'resnet50[pretraining=inaturalist]')",
         "166.0",
         null,
         null,
         null,
         "80.0",
         null,
         "87.0",
         null,
         "53.0",
         "57.0",
         null,
         null
        ],
        [
         "('l2', 'vgg19')",
         "159.0",
         "104.0",
         null,
         null,
         "63.0",
         "54.0",
         "65.0",
         "51.0",
         "49.0",
         "105.0",
         "64.0",
         "59.0"
        ]
       ],
       "shape": {
        "columns": 12,
        "rows": 12
       }
      },
      "text/html": [
       "<div>\n",
       "<style scoped>\n",
       "    .dataframe tbody tr th:only-of-type {\n",
       "        vertical-align: middle;\n",
       "    }\n",
       "\n",
       "    .dataframe tbody tr th {\n",
       "        vertical-align: top;\n",
       "    }\n",
       "\n",
       "    .dataframe thead tr th {\n",
       "        text-align: left;\n",
       "    }\n",
       "\n",
       "    .dataframe thead tr:last-of-type th {\n",
       "        text-align: right;\n",
       "    }\n",
       "</style>\n",
       "<table border=\"1\" class=\"dataframe\">\n",
       "  <thead>\n",
       "    <tr>\n",
       "      <th></th>\n",
       "      <th></th>\n",
       "      <th colspan=\"12\" halign=\"left\">name_run</th>\n",
       "    </tr>\n",
       "    <tr>\n",
       "      <th></th>\n",
       "      <th>model</th>\n",
       "      <th colspan=\"2\" halign=\"left\">deformable</th>\n",
       "      <th colspan=\"2\" halign=\"left\">prototree</th>\n",
       "      <th colspan=\"2\" halign=\"left\">st</th>\n",
       "      <th colspan=\"2\" halign=\"left\">tesnet</th>\n",
       "      <th colspan=\"4\" halign=\"left\">vanilla</th>\n",
       "    </tr>\n",
       "    <tr>\n",
       "      <th></th>\n",
       "      <th>dataset</th>\n",
       "      <th>cub200</th>\n",
       "      <th>dogs</th>\n",
       "      <th>cub200</th>\n",
       "      <th>dogs</th>\n",
       "      <th>cub200</th>\n",
       "      <th>dogs</th>\n",
       "      <th>cub200</th>\n",
       "      <th>dogs</th>\n",
       "      <th>cars_cropped</th>\n",
       "      <th>cub200</th>\n",
       "      <th>cub200_cropped</th>\n",
       "      <th>dogs</th>\n",
       "    </tr>\n",
       "    <tr>\n",
       "      <th>activation_function</th>\n",
       "      <th>backbone</th>\n",
       "      <th></th>\n",
       "      <th></th>\n",
       "      <th></th>\n",
       "      <th></th>\n",
       "      <th></th>\n",
       "      <th></th>\n",
       "      <th></th>\n",
       "      <th></th>\n",
       "      <th></th>\n",
       "      <th></th>\n",
       "      <th></th>\n",
       "      <th></th>\n",
       "    </tr>\n",
       "  </thead>\n",
       "  <tbody>\n",
       "    <tr>\n",
       "      <th rowspan=\"4\" valign=\"top\">cosine</th>\n",
       "      <th>densenet161</th>\n",
       "      <td>167.0</td>\n",
       "      <td>81.0</td>\n",
       "      <td>27.0</td>\n",
       "      <td>15.0</td>\n",
       "      <td>99.0</td>\n",
       "      <td>50.0</td>\n",
       "      <td>88.0</td>\n",
       "      <td>68.0</td>\n",
       "      <td>61.0</td>\n",
       "      <td>165.0</td>\n",
       "      <td>98.0</td>\n",
       "      <td>50.0</td>\n",
       "    </tr>\n",
       "    <tr>\n",
       "      <th>resnet50</th>\n",
       "      <td>NaN</td>\n",
       "      <td>167.0</td>\n",
       "      <td>NaN</td>\n",
       "      <td>68.0</td>\n",
       "      <td>NaN</td>\n",
       "      <td>76.0</td>\n",
       "      <td>NaN</td>\n",
       "      <td>76.0</td>\n",
       "      <td>NaN</td>\n",
       "      <td>NaN</td>\n",
       "      <td>97.0</td>\n",
       "      <td>87.0</td>\n",
       "    </tr>\n",
       "    <tr>\n",
       "      <th>resnet50[pretraining=inaturalist]</th>\n",
       "      <td>139.0</td>\n",
       "      <td>NaN</td>\n",
       "      <td>41.0</td>\n",
       "      <td>NaN</td>\n",
       "      <td>135.0</td>\n",
       "      <td>NaN</td>\n",
       "      <td>125.0</td>\n",
       "      <td>NaN</td>\n",
       "      <td>77.0</td>\n",
       "      <td>238.0</td>\n",
       "      <td>NaN</td>\n",
       "      <td>NaN</td>\n",
       "    </tr>\n",
       "    <tr>\n",
       "      <th>vgg19</th>\n",
       "      <td>106.0</td>\n",
       "      <td>114.0</td>\n",
       "      <td>51.0</td>\n",
       "      <td>31.0</td>\n",
       "      <td>64.0</td>\n",
       "      <td>61.0</td>\n",
       "      <td>75.0</td>\n",
       "      <td>101.0</td>\n",
       "      <td>55.0</td>\n",
       "      <td>147.0</td>\n",
       "      <td>103.0</td>\n",
       "      <td>71.0</td>\n",
       "    </tr>\n",
       "    <tr>\n",
       "      <th rowspan=\"4\" valign=\"top\">exp_l2</th>\n",
       "      <th>densenet161</th>\n",
       "      <td>NaN</td>\n",
       "      <td>NaN</td>\n",
       "      <td>26.0</td>\n",
       "      <td>14.0</td>\n",
       "      <td>NaN</td>\n",
       "      <td>NaN</td>\n",
       "      <td>NaN</td>\n",
       "      <td>NaN</td>\n",
       "      <td>NaN</td>\n",
       "      <td>NaN</td>\n",
       "      <td>NaN</td>\n",
       "      <td>NaN</td>\n",
       "    </tr>\n",
       "    <tr>\n",
       "      <th>resnet50</th>\n",
       "      <td>NaN</td>\n",
       "      <td>NaN</td>\n",
       "      <td>NaN</td>\n",
       "      <td>23.0</td>\n",
       "      <td>NaN</td>\n",
       "      <td>NaN</td>\n",
       "      <td>NaN</td>\n",
       "      <td>NaN</td>\n",
       "      <td>NaN</td>\n",
       "      <td>NaN</td>\n",
       "      <td>NaN</td>\n",
       "      <td>NaN</td>\n",
       "    </tr>\n",
       "    <tr>\n",
       "      <th>resnet50[pretraining=inaturalist]</th>\n",
       "      <td>NaN</td>\n",
       "      <td>NaN</td>\n",
       "      <td>144.0</td>\n",
       "      <td>NaN</td>\n",
       "      <td>NaN</td>\n",
       "      <td>NaN</td>\n",
       "      <td>NaN</td>\n",
       "      <td>NaN</td>\n",
       "      <td>NaN</td>\n",
       "      <td>NaN</td>\n",
       "      <td>NaN</td>\n",
       "      <td>NaN</td>\n",
       "    </tr>\n",
       "    <tr>\n",
       "      <th>vgg19</th>\n",
       "      <td>NaN</td>\n",
       "      <td>NaN</td>\n",
       "      <td>47.0</td>\n",
       "      <td>22.0</td>\n",
       "      <td>NaN</td>\n",
       "      <td>NaN</td>\n",
       "      <td>NaN</td>\n",
       "      <td>NaN</td>\n",
       "      <td>NaN</td>\n",
       "      <td>NaN</td>\n",
       "      <td>NaN</td>\n",
       "      <td>NaN</td>\n",
       "    </tr>\n",
       "    <tr>\n",
       "      <th rowspan=\"4\" valign=\"top\">l2</th>\n",
       "      <th>densenet161</th>\n",
       "      <td>136.0</td>\n",
       "      <td>58.0</td>\n",
       "      <td>NaN</td>\n",
       "      <td>NaN</td>\n",
       "      <td>57.0</td>\n",
       "      <td>46.0</td>\n",
       "      <td>62.0</td>\n",
       "      <td>31.0</td>\n",
       "      <td>42.0</td>\n",
       "      <td>44.0</td>\n",
       "      <td>58.0</td>\n",
       "      <td>64.0</td>\n",
       "    </tr>\n",
       "    <tr>\n",
       "      <th>resnet50</th>\n",
       "      <td>NaN</td>\n",
       "      <td>135.0</td>\n",
       "      <td>NaN</td>\n",
       "      <td>NaN</td>\n",
       "      <td>NaN</td>\n",
       "      <td>59.0</td>\n",
       "      <td>NaN</td>\n",
       "      <td>45.0</td>\n",
       "      <td>NaN</td>\n",
       "      <td>NaN</td>\n",
       "      <td>58.0</td>\n",
       "      <td>68.0</td>\n",
       "    </tr>\n",
       "    <tr>\n",
       "      <th>resnet50[pretraining=inaturalist]</th>\n",
       "      <td>166.0</td>\n",
       "      <td>NaN</td>\n",
       "      <td>NaN</td>\n",
       "      <td>NaN</td>\n",
       "      <td>80.0</td>\n",
       "      <td>NaN</td>\n",
       "      <td>87.0</td>\n",
       "      <td>NaN</td>\n",
       "      <td>53.0</td>\n",
       "      <td>57.0</td>\n",
       "      <td>NaN</td>\n",
       "      <td>NaN</td>\n",
       "    </tr>\n",
       "    <tr>\n",
       "      <th>vgg19</th>\n",
       "      <td>159.0</td>\n",
       "      <td>104.0</td>\n",
       "      <td>NaN</td>\n",
       "      <td>NaN</td>\n",
       "      <td>63.0</td>\n",
       "      <td>54.0</td>\n",
       "      <td>65.0</td>\n",
       "      <td>51.0</td>\n",
       "      <td>49.0</td>\n",
       "      <td>105.0</td>\n",
       "      <td>64.0</td>\n",
       "      <td>59.0</td>\n",
       "    </tr>\n",
       "  </tbody>\n",
       "</table>\n",
       "</div>"
      ],
      "text/plain": [
       "                                                        name_run         \\\n",
       "model                                                 deformable          \n",
       "dataset                                                   cub200   dogs   \n",
       "activation_function backbone                                              \n",
       "cosine              densenet161                            167.0   81.0   \n",
       "                    resnet50                                 NaN  167.0   \n",
       "                    resnet50[pretraining=inaturalist]      139.0    NaN   \n",
       "                    vgg19                                  106.0  114.0   \n",
       "exp_l2              densenet161                              NaN    NaN   \n",
       "                    resnet50                                 NaN    NaN   \n",
       "                    resnet50[pretraining=inaturalist]        NaN    NaN   \n",
       "                    vgg19                                    NaN    NaN   \n",
       "l2                  densenet161                            136.0   58.0   \n",
       "                    resnet50                                 NaN  135.0   \n",
       "                    resnet50[pretraining=inaturalist]      166.0    NaN   \n",
       "                    vgg19                                  159.0  104.0   \n",
       "\n",
       "                                                                              \\\n",
       "model                                                 prototree           st   \n",
       "dataset                                                  cub200  dogs cub200   \n",
       "activation_function backbone                                                   \n",
       "cosine              densenet161                            27.0  15.0   99.0   \n",
       "                    resnet50                                NaN  68.0    NaN   \n",
       "                    resnet50[pretraining=inaturalist]      41.0   NaN  135.0   \n",
       "                    vgg19                                  51.0  31.0   64.0   \n",
       "exp_l2              densenet161                            26.0  14.0    NaN   \n",
       "                    resnet50                                NaN  23.0    NaN   \n",
       "                    resnet50[pretraining=inaturalist]     144.0   NaN    NaN   \n",
       "                    vgg19                                  47.0  22.0    NaN   \n",
       "l2                  densenet161                             NaN   NaN   57.0   \n",
       "                    resnet50                                NaN   NaN    NaN   \n",
       "                    resnet50[pretraining=inaturalist]       NaN   NaN   80.0   \n",
       "                    vgg19                                   NaN   NaN   63.0   \n",
       "\n",
       "                                                                           \\\n",
       "model                                                       tesnet          \n",
       "dataset                                                dogs cub200   dogs   \n",
       "activation_function backbone                                                \n",
       "cosine              densenet161                        50.0   88.0   68.0   \n",
       "                    resnet50                           76.0    NaN   76.0   \n",
       "                    resnet50[pretraining=inaturalist]   NaN  125.0    NaN   \n",
       "                    vgg19                              61.0   75.0  101.0   \n",
       "exp_l2              densenet161                         NaN    NaN    NaN   \n",
       "                    resnet50                            NaN    NaN    NaN   \n",
       "                    resnet50[pretraining=inaturalist]   NaN    NaN    NaN   \n",
       "                    vgg19                               NaN    NaN    NaN   \n",
       "l2                  densenet161                        46.0   62.0   31.0   \n",
       "                    resnet50                           59.0    NaN   45.0   \n",
       "                    resnet50[pretraining=inaturalist]   NaN   87.0    NaN   \n",
       "                    vgg19                              54.0   65.0   51.0   \n",
       "\n",
       "                                                                           \\\n",
       "model                                                      vanilla          \n",
       "dataset                                               cars_cropped cub200   \n",
       "activation_function backbone                                                \n",
       "cosine              densenet161                               61.0  165.0   \n",
       "                    resnet50                                   NaN    NaN   \n",
       "                    resnet50[pretraining=inaturalist]         77.0  238.0   \n",
       "                    vgg19                                     55.0  147.0   \n",
       "exp_l2              densenet161                                NaN    NaN   \n",
       "                    resnet50                                   NaN    NaN   \n",
       "                    resnet50[pretraining=inaturalist]          NaN    NaN   \n",
       "                    vgg19                                      NaN    NaN   \n",
       "l2                  densenet161                               42.0   44.0   \n",
       "                    resnet50                                   NaN    NaN   \n",
       "                    resnet50[pretraining=inaturalist]         53.0   57.0   \n",
       "                    vgg19                                     49.0  105.0   \n",
       "\n",
       "                                                                            \n",
       "model                                                                       \n",
       "dataset                                               cub200_cropped  dogs  \n",
       "activation_function backbone                                                \n",
       "cosine              densenet161                                 98.0  50.0  \n",
       "                    resnet50                                    97.0  87.0  \n",
       "                    resnet50[pretraining=inaturalist]            NaN   NaN  \n",
       "                    vgg19                                      103.0  71.0  \n",
       "exp_l2              densenet161                                  NaN   NaN  \n",
       "                    resnet50                                     NaN   NaN  \n",
       "                    resnet50[pretraining=inaturalist]            NaN   NaN  \n",
       "                    vgg19                                        NaN   NaN  \n",
       "l2                  densenet161                                 58.0  64.0  \n",
       "                    resnet50                                    58.0  68.0  \n",
       "                    resnet50[pretraining=inaturalist]            NaN   NaN  \n",
       "                    vgg19                                       64.0  59.0  "
      ]
     },
     "execution_count": 128,
     "metadata": {},
     "output_type": "execute_result"
    }
   ],
   "source": [
    "runsXsweeps[(runsXsweeps['optimization'] == 'accuracy') & (runsXsweeps['len'] == 'short')].groupby(['model', 'dataset', 'backbone', 'activation_function']).count()[['name_run']].unstack([0, 1]).swaplevel(0,1).sort_index()"
   ]
  },
  {
   "cell_type": "markdown",
   "metadata": {},
   "source": [
    "# Load Eval Data"
   ]
  },
  {
   "cell_type": "code",
   "execution_count": null,
   "metadata": {},
   "outputs": [],
   "source": [
    "import os\n",
    "import glob\n",
    "import pandas as pd\n",
    "\n",
    "def load_results(directory_path):\n",
    "    # Get all files matching the pattern\n",
    "    pkl_files = glob.glob(os.path.join(directory_path, \"*-results.pkl\"))\n",
    "    \n",
    "    if not pkl_files:\n",
    "        print(\"No matching .pkl files found in the specified directory.\")\n",
    "        return None\n",
    "    \n",
    "    print(f\"Found {len(pkl_files)} .pkl files to process.\")\n",
    "    \n",
    "    # Initialize an empty list to store all dataframes\n",
    "    all_dataframes = []\n",
    "    \n",
    "    # Loop through each file\n",
    "    for file_path in pkl_files:\n",
    "        try:\n",
    "            # Load the DataFrame from the pickle file\n",
    "            df = pd.read_pickle(file_path).reset_index()\n",
    "            \n",
    "            # Optional: Add a column to identify the source file\n",
    "            file_name = os.path.basename(file_path)\n",
    "            df['source_file'] = file_name\n",
    "            \n",
    "            # Append to the list of dataframes\n",
    "            all_dataframes.append(df)\n",
    "            print(f\"Loaded: {file_name} with {len(df)} rows\")\n",
    "            \n",
    "        except Exception as e:\n",
    "            print(f\"Error loading {os.path.basename(file_path)}: {str(e)}\")\n",
    "    \n",
    "    if not all_dataframes:\n",
    "        print(\"No DataFrames were successfully loaded.\")\n",
    "        return None\n",
    "    \n",
    "    # Concatenate all dataframes\n",
    "    combined_df = pd.concat(all_dataframes, ignore_index=True)\n",
    "    \n",
    "    print(f\"\\nSuccessfully concatenated {len(all_dataframes)} DataFrames.\")\n",
    "    print(f\"Combined DataFrame shape: {combined_df.shape}\")\n",
    "    \n",
    "    return combined_df\n",
    "\n",
    "results = load_results('analysis/eval/data')\n",
    "results"
   ]
  },
  {
   "cell_type": "code",
   "execution_count": null,
   "metadata": {},
   "outputs": [],
   "source": [
    "results['source_sweep'] = results['source_file'].str.extract(r'(.+)-results.pkl')\n",
    "results[['source_file', 'source_sweep']]"
   ]
  },
  {
   "cell_type": "code",
   "execution_count": null,
   "metadata": {},
   "outputs": [],
   "source": [
    "results[results['source_sweep'].isin(runsXsweeps[runsXsweeps['optimization'] == 'accproto']['sweep_id'])]['source_sweep'].unique()"
   ]
  },
  {
   "cell_type": "code",
   "execution_count": null,
   "metadata": {},
   "outputs": [],
   "source": [
    "# these are model overwrites loaded for the wrong dataset\n",
    "results[~results['error'].isna()]"
   ]
  },
  {
   "cell_type": "code",
   "execution_count": null,
   "metadata": {},
   "outputs": [],
   "source": [
    "error_free_results = results[results['error'].isna()].rename(columns={'source_sweep': 'sweep_id', 'model': 'run_id'})\n",
    "error_free_results"
   ]
  },
  {
   "cell_type": "code",
   "execution_count": null,
   "metadata": {},
   "outputs": [],
   "source": [
    "error_free_results[error_free_results['sweep_id'].isin(runsXsweeps[runsXsweeps['optimization'] == 'accproto']['sweep_id'])].groupby(['sweep_id']).count()[['run_id']]"
   ]
  },
  {
   "cell_type": "code",
   "execution_count": null,
   "metadata": {},
   "outputs": [],
   "source": [
    "runsXsweepsXeval = pd.merge(runsXsweeps, error_free_results, left_on=('name_run', 'sweep_id'), right_on=('run_id', 'sweep_id'), suffixes=('_wandb', '_eval'))\n",
    "runsXsweepsXeval"
   ]
  },
  {
   "cell_type": "code",
   "execution_count": null,
   "metadata": {},
   "outputs": [],
   "source": [
    "runsXsweepsXeval[runsXsweepsXeval['optimization'] == 'accproto'].groupby(['model', 'dataset', 'backbone', 'activation_function']).count()[['name_run']]"
   ]
  },
  {
   "cell_type": "code",
   "execution_count": null,
   "metadata": {},
   "outputs": [],
   "source": [
    "runsXsweepsXeval[runsXsweepsXeval['model'] == 'prototree'].groupby(['model', 'dataset', 'backbone', 'activation_function']).count()[['name_run']]"
   ]
  },
  {
   "cell_type": "code",
   "execution_count": null,
   "metadata": {},
   "outputs": [],
   "source": [
    "runsXsweepsXeval['name_run'].value_counts().value_counts()"
   ]
  },
  {
   "cell_type": "code",
   "execution_count": 139,
   "metadata": {},
   "outputs": [
    {
     "data": {
      "text/plain": [
       "count\n",
       "1    8128\n",
       "2     354\n",
       "3      29\n",
       "4      12\n",
       "5       3\n",
       "9       1\n",
       "6       1\n",
       "Name: count, dtype: int64"
      ]
     },
     "execution_count": 139,
     "metadata": {},
     "output_type": "execute_result"
    }
   ],
   "source": [
    "runsXsweepsXeval['best_model'].value_counts().value_counts()\n",
    "# even though we have mostly positive identifications\n",
    "# there are a number of models where name collisions occur, which means we need to..."
   ]
  },
  {
   "cell_type": "markdown",
   "metadata": {},
   "source": [
    "## Match based on validation scores to remove duplicates"
   ]
  },
  {
   "cell_type": "code",
   "execution_count": null,
   "metadata": {},
   "outputs": [],
   "source": [
    "# correct errors for clashes that ended up jumping backbones\n",
    "\n",
    "import os\n",
    "import glob\n",
    "import pandas as pd\n",
    "\n",
    "def load_backbone_map(directory_path):\n",
    "    # Get all files matching the pattern\n",
    "    csv_files = glob.glob(os.path.join(directory_path, \"*-backbones.csv\"))\n",
    "    \n",
    "    if not csv_files:\n",
    "        print(\"No matching .csv files found in the specified directory.\")\n",
    "        return None\n",
    "    \n",
    "    print(f\"Found {len(csv_files)} .csv files to process.\")\n",
    "    \n",
    "    # Initialize an empty list to store all dataframes\n",
    "    all_dataframes = []\n",
    "    \n",
    "    # Loop through each file\n",
    "    for file_path in csv_files:\n",
    "        try:\n",
    "            # Load the DataFrame from the pickle file\n",
    "            df = pd.read_csv(file_path, header=None)\n",
    "            df.columns=['model_file', 'arch_text', 'backbone_text', 'af_text', 'class_indicator_number']\n",
    "            \n",
    "            # Optional: Add a column to identify the source file\n",
    "            file_name = os.path.basename(file_path)\n",
    "            df['source_file'] = file_name\n",
    "            \n",
    "            # Append to the list of dataframes\n",
    "            all_dataframes.append(df)\n",
    "            print(f\"Loaded: {file_name} with {len(df)} rows\")\n",
    "            \n",
    "        except Exception as e:\n",
    "            print(f\"Error loading {os.path.basename(file_path)}: {str(e)}\")\n",
    "    \n",
    "    if not all_dataframes:\n",
    "        print(\"No DataFrames were successfully loaded.\")\n",
    "        return None\n",
    "    \n",
    "    # Concatenate all dataframes\n",
    "    combined_df = pd.concat(all_dataframes, ignore_index=True)\n",
    "    \n",
    "    print(f\"\\nSuccessfully concatenated {len(all_dataframes)} DataFrames.\")\n",
    "    print(f\"Combined DataFrame shape: {combined_df.shape}\")\n",
    "    \n",
    "    return combined_df\n",
    "\n",
    "results = load_backbone_map('analysis/eval/model-backbones')\n",
    "results = results.drop_duplicates('model_file')\n",
    "results\n",
    "# error files are prototree sweeps that were relaunched"
   ]
  },
  {
   "cell_type": "code",
   "execution_count": 141,
   "metadata": {},
   "outputs": [
    {
     "data": {
      "text/plain": [
       "arch_recovered  backbone_recovered  af_recovered  class_indicator_number\n",
       "vanilla         resnet50            cosine        200                       1220\n",
       "tesnet          resnet50            cosine        200                       1220\n",
       "vanilla         resnet50            l2            200                        903\n",
       "tesnet          resnet50            l2            200                        903\n",
       "                vgg19               cosine        200                        782\n",
       "                                                                            ... \n",
       "prototree       resnet50            exp_l2        202                          1\n",
       "                                                  128                          1\n",
       "                                                  127                          1\n",
       "                                                  126                          1\n",
       "vanilla         NaN                 cosine        10                           1\n",
       "Name: count, Length: 139, dtype: int64"
      ]
     },
     "execution_count": 141,
     "metadata": {},
     "output_type": "execute_result"
    }
   ],
   "source": [
    "def recovered_backbone(txt):\n",
    "    if 'vgg' in txt.lower():\n",
    "        return 'vgg19'\n",
    "    if 'resnet' in txt.lower():\n",
    "        return 'resnet50'\n",
    "    if 'densenet' in txt.lower():\n",
    "        return 'densenet161'\n",
    "    \n",
    "def recovered_arch(txt):\n",
    "    if 'VanillaProtoPNet' in txt:\n",
    "        return 'vanilla|tesnet'\n",
    "    if 'DeformableProtoPNet' in txt:\n",
    "        return 'deformable'\n",
    "    if 'ProtoTree' in txt:\n",
    "        return 'prototree'\n",
    "    if 'STProtoPNet' in txt:\n",
    "        return 'st'\n",
    "    \n",
    "def recover_af(txt):\n",
    "    if 'L2Activation' == txt:\n",
    "        return 'l2'\n",
    "    elif 'CosPrototypeActivation' == txt:\n",
    "        return 'cosine'\n",
    "    elif 'ExpL2Activation' == txt:\n",
    "        return 'exp_l2'\n",
    "\n",
    "# now nothing that this does not make the pretraining clear\n",
    "results['backbone_recovered'] = results['backbone_text'].apply(recovered_backbone)\n",
    "results['arch_recovered'] = results['arch_text'].apply(recovered_arch)\n",
    "results['af_recovered'] = results['af_text'].apply(recover_af)\n",
    "\n",
    "modeled_results = results.copy()\n",
    "\n",
    "for model in ['tesnet', 'vanilla']:\n",
    "    model_res = results[results['arch_recovered'] == 'vanilla|tesnet'].copy()\n",
    "    model_res['arch_recovered'] = model\n",
    "    modeled_results = pd.concat([modeled_results, model_res])\n",
    "\n",
    "modeled_results = modeled_results[modeled_results['arch_recovered'] != 'vanilla|tesnet']\n",
    "modeled_results[['arch_recovered', 'backbone_recovered', 'af_recovered', 'class_indicator_number']].value_counts(dropna=False)"
   ]
  },
  {
   "cell_type": "code",
   "execution_count": 146,
   "metadata": {},
   "outputs": [
    {
     "data": {
      "text/plain": [
       "class_indicator_number\n",
       "200                       10737\n",
       "120                        2949\n",
       "196                        1534\n",
       "199                         138\n",
       "201                          10\n",
       "124                           9\n",
       "126                           9\n",
       "122                           8\n",
       "121                           8\n",
       "123                           8\n",
       "125                           6\n",
       "131                           6\n",
       "202                           5\n",
       "128                           3\n",
       "130                           3\n",
       "133                           2\n",
       "149                           2\n",
       "138                           2\n",
       "10                            2\n",
       "127                           2\n",
       "132                           1\n",
       "188                           1\n",
       "274                           1\n",
       "39                            1\n",
       "54                            1\n",
       "67                            1\n",
       "92                            1\n",
       "119                           1\n",
       "186                           1\n",
       "31                            1\n",
       "163                           1\n",
       "152                           1\n",
       "142                           1\n",
       "129                           1\n",
       "136                           1\n",
       "309                           1\n",
       "Name: count, dtype: int64"
      ]
     },
     "execution_count": 146,
     "metadata": {},
     "output_type": "execute_result"
    }
   ],
   "source": [
    "# because of pruning, the prototree numbers are reliable, but that's fine, because there aren't any name collisions on prototree\n",
    "modeled_results[['class_indicator_number']].value_counts()"
   ]
  },
  {
   "cell_type": "code",
   "execution_count": 147,
   "metadata": {},
   "outputs": [
    {
     "data": {
      "text/plain": [
       "arch_recovered\n",
       "tesnet        6628\n",
       "vanilla       6628\n",
       "deformable    1095\n",
       "st             818\n",
       "prototree      290\n",
       "Name: count, dtype: int64"
      ]
     },
     "execution_count": 147,
     "metadata": {},
     "output_type": "execute_result"
    }
   ],
   "source": [
    "modeled_results['arch_recovered'].value_counts(dropna=False)"
   ]
  },
  {
   "cell_type": "code",
   "execution_count": null,
   "metadata": {},
   "outputs": [],
   "source": [
    "runsXsweepsXevalXbackbone = runsXsweepsXeval.merge(modeled_results, left_on='best_model', right_on='model_file', suffixes=('', '_recovered'), how='left')\n",
    "runsXsweepsXevalXbackbone"
   ]
  },
  {
   "cell_type": "code",
   "execution_count": 164,
   "metadata": {},
   "outputs": [
    {
     "data": {
      "application/vnd.microsoft.datawrangler.viewer.v0+json": {
       "columns": [
        {
         "name": "('arch_equal', 'backbone_equal', 'af_equal', 'dataset_equal')",
         "rawType": "object",
         "type": "unknown"
        },
        {
         "name": "name_run",
         "rawType": "int64",
         "type": "integer"
        }
       ],
       "conversionMethod": "pd.DataFrame",
       "ref": "9e6578fd-61d5-47ef-ac3a-11ed457cb7fb",
       "rows": [
        [
         "(False, False, False, True)",
         "46"
        ],
        [
         "(False, False, True, True)",
         "197"
        ],
        [
         "(False, True, False, True)",
         "14"
        ],
        [
         "(False, True, True, True)",
         "6452"
        ],
        [
         "(True, False, False, True)",
         "35"
        ],
        [
         "(True, False, True, True)",
         "191"
        ],
        [
         "(True, True, False, True)",
         "8"
        ],
        [
         "(True, True, True, True)",
         "8671"
        ]
       ],
       "shape": {
        "columns": 1,
        "rows": 8
       }
      },
      "text/html": [
       "<div>\n",
       "<style scoped>\n",
       "    .dataframe tbody tr th:only-of-type {\n",
       "        vertical-align: middle;\n",
       "    }\n",
       "\n",
       "    .dataframe tbody tr th {\n",
       "        vertical-align: top;\n",
       "    }\n",
       "\n",
       "    .dataframe thead th {\n",
       "        text-align: right;\n",
       "    }\n",
       "</style>\n",
       "<table border=\"1\" class=\"dataframe\">\n",
       "  <thead>\n",
       "    <tr style=\"text-align: right;\">\n",
       "      <th></th>\n",
       "      <th></th>\n",
       "      <th></th>\n",
       "      <th></th>\n",
       "      <th>name_run</th>\n",
       "    </tr>\n",
       "    <tr>\n",
       "      <th>arch_equal</th>\n",
       "      <th>backbone_equal</th>\n",
       "      <th>af_equal</th>\n",
       "      <th>dataset_equal</th>\n",
       "      <th></th>\n",
       "    </tr>\n",
       "  </thead>\n",
       "  <tbody>\n",
       "    <tr>\n",
       "      <th rowspan=\"4\" valign=\"top\">False</th>\n",
       "      <th rowspan=\"2\" valign=\"top\">False</th>\n",
       "      <th>False</th>\n",
       "      <th>True</th>\n",
       "      <td>46</td>\n",
       "    </tr>\n",
       "    <tr>\n",
       "      <th>True</th>\n",
       "      <th>True</th>\n",
       "      <td>197</td>\n",
       "    </tr>\n",
       "    <tr>\n",
       "      <th rowspan=\"2\" valign=\"top\">True</th>\n",
       "      <th>False</th>\n",
       "      <th>True</th>\n",
       "      <td>14</td>\n",
       "    </tr>\n",
       "    <tr>\n",
       "      <th>True</th>\n",
       "      <th>True</th>\n",
       "      <td>6452</td>\n",
       "    </tr>\n",
       "    <tr>\n",
       "      <th rowspan=\"4\" valign=\"top\">True</th>\n",
       "      <th rowspan=\"2\" valign=\"top\">False</th>\n",
       "      <th>False</th>\n",
       "      <th>True</th>\n",
       "      <td>35</td>\n",
       "    </tr>\n",
       "    <tr>\n",
       "      <th>True</th>\n",
       "      <th>True</th>\n",
       "      <td>191</td>\n",
       "    </tr>\n",
       "    <tr>\n",
       "      <th rowspan=\"2\" valign=\"top\">True</th>\n",
       "      <th>False</th>\n",
       "      <th>True</th>\n",
       "      <td>8</td>\n",
       "    </tr>\n",
       "    <tr>\n",
       "      <th>True</th>\n",
       "      <th>True</th>\n",
       "      <td>8671</td>\n",
       "    </tr>\n",
       "  </tbody>\n",
       "</table>\n",
       "</div>"
      ],
      "text/plain": [
       "                                                  name_run\n",
       "arch_equal backbone_equal af_equal dataset_equal          \n",
       "False      False          False    True                 46\n",
       "                          True     True                197\n",
       "           True           False    True                 14\n",
       "                          True     True               6452\n",
       "True       False          False    True                 35\n",
       "                          True     True                191\n",
       "           True           False    True                  8\n",
       "                          True     True               8671"
      ]
     },
     "execution_count": 164,
     "metadata": {},
     "output_type": "execute_result"
    }
   ],
   "source": [
    "def backbone_equal(row):\n",
    "    if pd.isna(row['backbone']) or pd.isna(row['backbone_recovered']):\n",
    "        return pd.NA\n",
    "    return row['backbone'].split('[')[0] == row['backbone_recovered']\n",
    "\n",
    "def arch_equal(row):\n",
    "    if pd.isna(row['model']) or pd.isna(row['arch_recovered']):\n",
    "        return pd.NA\n",
    "    return row['model'] == row['arch_recovered']\n",
    "\n",
    "def af_equal(row):\n",
    "    if pd.isna(row['activation_function']) or pd.isna(row['af_recovered']):\n",
    "        return pd.NA\n",
    "    return row['activation_function'] == row['af_recovered']\n",
    "\n",
    "class_name_map = {\n",
    "    200: 'cub200',\n",
    "    120: 'dogs',\n",
    "    196: 'cars',\n",
    "}\n",
    "\n",
    "def dataset_from_classes(row):\n",
    "    if row['model'] == 'prototree':\n",
    "        return True\n",
    "    else:\n",
    "        if row['class_indicator_number'] == 200:\n",
    "            return row['dataset'] in ['cub200', 'cub200_cropped']\n",
    "        elif row['class_indicator_number'] == 120:\n",
    "            return row['dataset'] == 'dogs'\n",
    "        elif row['class_indicator_number'] == 196:\n",
    "            return row['dataset'] == 'cars_cropped'\n",
    "\n",
    "\n",
    "runsXsweepsXevalXbackbone['backbone_equal'] = runsXsweepsXevalXbackbone.apply(backbone_equal, axis=1)\n",
    "runsXsweepsXevalXbackbone['arch_equal'] = runsXsweepsXevalXbackbone.apply(arch_equal, axis=1)\n",
    "runsXsweepsXevalXbackbone['af_equal'] = runsXsweepsXevalXbackbone.apply(af_equal, axis=1)\n",
    "runsXsweepsXevalXbackbone['dataset_equal'] = runsXsweepsXevalXbackbone.apply(dataset_from_classes, axis=1)\n",
    "runsXsweepsXevalXbackbone.groupby(['arch_equal', 'backbone_equal', 'af_equal', 'dataset_equal']).count()[['name_run']]"
   ]
  },
  {
   "cell_type": "code",
   "execution_count": 165,
   "metadata": {},
   "outputs": [
    {
     "data": {
      "text/plain": [
       "count\n",
       "1    8354\n",
       "2     125\n",
       "3      14\n",
       "4       5\n",
       "5       1\n",
       "Name: count, dtype: int64"
      ]
     },
     "execution_count": 165,
     "metadata": {},
     "output_type": "execute_result"
    }
   ],
   "source": [
    "good_results = runsXsweepsXevalXbackbone[\n",
    "    (runsXsweepsXevalXbackbone['arch_equal']) &\n",
    "    (runsXsweepsXevalXbackbone['backbone_equal'])&\n",
    "    (runsXsweepsXevalXbackbone['af_equal'])&\n",
    "    (runsXsweepsXevalXbackbone['dataset_equal'])].copy()\n",
    "good_results['best_model'].value_counts().value_counts()\n",
    "# still a number of models with duplicate identifications"
   ]
  },
  {
   "cell_type": "code",
   "execution_count": 166,
   "metadata": {},
   "outputs": [
    {
     "data": {
      "text/plain": [
       "True    8671\n",
       "Name: count, dtype: int64"
      ]
     },
     "execution_count": 166,
     "metadata": {},
     "output_type": "execute_result"
    }
   ],
   "source": [
    "(good_results['model_path'] == good_results['best_model']).value_counts()"
   ]
  },
  {
   "cell_type": "code",
   "execution_count": 167,
   "metadata": {},
   "outputs": [
    {
     "data": {
      "text/plain": [
       "True    8671\n",
       "Name: count, dtype: int64"
      ]
     },
     "execution_count": 167,
     "metadata": {},
     "output_type": "execute_result"
    }
   ],
   "source": [
    "(good_results['model_path'] == good_results['model_file']).value_counts()"
   ]
  },
  {
   "cell_type": "code",
   "execution_count": 168,
   "metadata": {},
   "outputs": [
    {
     "data": {
      "application/vnd.microsoft.datawrangler.viewer.v0+json": {
       "columns": [
        {
         "name": "('model', 'optimization', 'len')",
         "rawType": "object",
         "type": "unknown"
        },
        {
         "name": "name_run",
         "rawType": "int64",
         "type": "integer"
        }
       ],
       "conversionMethod": "pd.DataFrame",
       "ref": "f87c6d93-408c-49bc-9d36-ab639726e3f1",
       "rows": [
        [
         "('deformable', 'accuracy', 'short')",
         "1117"
        ],
        [
         "('prototree', 'accuracy', 'short')",
         "290"
        ],
        [
         "('st', 'accuracy', 'short')",
         "824"
        ],
        [
         "('tesnet', 'accuracy', 'short')",
         "713"
        ],
        [
         "('vanilla', 'accproto', 'long')",
         "898"
        ],
        [
         "('vanilla', 'accuracy', 'long')",
         "3096"
        ],
        [
         "('vanilla', 'accuracy', 'short')",
         "1733"
        ]
       ],
       "shape": {
        "columns": 1,
        "rows": 7
       }
      },
      "text/html": [
       "<div>\n",
       "<style scoped>\n",
       "    .dataframe tbody tr th:only-of-type {\n",
       "        vertical-align: middle;\n",
       "    }\n",
       "\n",
       "    .dataframe tbody tr th {\n",
       "        vertical-align: top;\n",
       "    }\n",
       "\n",
       "    .dataframe thead th {\n",
       "        text-align: right;\n",
       "    }\n",
       "</style>\n",
       "<table border=\"1\" class=\"dataframe\">\n",
       "  <thead>\n",
       "    <tr style=\"text-align: right;\">\n",
       "      <th></th>\n",
       "      <th></th>\n",
       "      <th></th>\n",
       "      <th>name_run</th>\n",
       "    </tr>\n",
       "    <tr>\n",
       "      <th>model</th>\n",
       "      <th>optimization</th>\n",
       "      <th>len</th>\n",
       "      <th></th>\n",
       "    </tr>\n",
       "  </thead>\n",
       "  <tbody>\n",
       "    <tr>\n",
       "      <th>deformable</th>\n",
       "      <th>accuracy</th>\n",
       "      <th>short</th>\n",
       "      <td>1117</td>\n",
       "    </tr>\n",
       "    <tr>\n",
       "      <th>prototree</th>\n",
       "      <th>accuracy</th>\n",
       "      <th>short</th>\n",
       "      <td>290</td>\n",
       "    </tr>\n",
       "    <tr>\n",
       "      <th>st</th>\n",
       "      <th>accuracy</th>\n",
       "      <th>short</th>\n",
       "      <td>824</td>\n",
       "    </tr>\n",
       "    <tr>\n",
       "      <th>tesnet</th>\n",
       "      <th>accuracy</th>\n",
       "      <th>short</th>\n",
       "      <td>713</td>\n",
       "    </tr>\n",
       "    <tr>\n",
       "      <th rowspan=\"3\" valign=\"top\">vanilla</th>\n",
       "      <th>accproto</th>\n",
       "      <th>long</th>\n",
       "      <td>898</td>\n",
       "    </tr>\n",
       "    <tr>\n",
       "      <th rowspan=\"2\" valign=\"top\">accuracy</th>\n",
       "      <th>long</th>\n",
       "      <td>3096</td>\n",
       "    </tr>\n",
       "    <tr>\n",
       "      <th>short</th>\n",
       "      <td>1733</td>\n",
       "    </tr>\n",
       "  </tbody>\n",
       "</table>\n",
       "</div>"
      ],
      "text/plain": [
       "                               name_run\n",
       "model      optimization len            \n",
       "deformable accuracy     short      1117\n",
       "prototree  accuracy     short       290\n",
       "st         accuracy     short       824\n",
       "tesnet     accuracy     short       713\n",
       "vanilla    accproto     long        898\n",
       "           accuracy     long       3096\n",
       "                        short      1733"
      ]
     },
     "execution_count": 168,
     "metadata": {},
     "output_type": "execute_result"
    }
   ],
   "source": [
    "good_results.groupby(['model', 'optimization', 'len']).count()[['name_run']]"
   ]
  },
  {
   "cell_type": "markdown",
   "metadata": {},
   "source": [
    "#### Filter based on accuracy\n",
    "\n",
    "The only possible outstanding error is mixing up a tesnet model with a vanilla model or a model trained with the wrong resnet pretraining.\n",
    "There's no way to distinguish them from the outside.\n",
    "However, if there's only one model that meets all the criteria, then that must be the original model. Other than that, none of our results will be wrong if we don't allow any models any models with better accuracy on validation than in training to slip through.\n",
    "There is, unfortunately, some rounding error in the accuracies recorded during training, so we have to have a little margin."
   ]
  },
  {
   "cell_type": "code",
   "execution_count": null,
   "metadata": {},
   "outputs": [],
   "source": [
    "closest_matches = pd.DataFrame()\n",
    "good_results['eval_acc_diff'] = (good_results['best[prototypes_embedded]/eval/accuracy'] - good_results['val.accuracy']).abs()\n",
    "good_results['eval_acc_proto_diff'] = (good_results['best[prototypes_embedded]/eval/acc_proto_score'] - good_results['val.acc_proto_score']).abs()\n",
    "for model_path, df in good_results[good_results['optimization'] == 'accuracy'].groupby('model_path'):\n",
    "    min_acc_diff = df['eval_acc_diff'].min()\n",
    "    if min_acc_diff <= 0.005 or len(df) == 1:\n",
    "        closest_matches = pd.concat([closest_matches, df[df['eval_acc_diff'] == min_acc_diff]])\n",
    "\n",
    "for model_path, df in good_results[good_results['optimization'] == 'accproto'].groupby('model_path'):\n",
    "    min_acc_proto_diff = df['eval_acc_proto_diff'].min()\n",
    "    if min_acc_proto_diff < 0.005 or len(df) == 1:\n",
    "        closest_matches = pd.concat([closest_matches, df[df['eval_acc_proto_diff'] == min_acc_proto_diff]])\n",
    "\n",
    "closest_df = pd.DataFrame(closest_matches)\n",
    "closest_df"
   ]
  },
  {
   "cell_type": "code",
   "execution_count": 172,
   "metadata": {},
   "outputs": [
    {
     "data": {
      "application/vnd.microsoft.datawrangler.viewer.v0+json": {
       "columns": [
        {
         "name": "('model', 'optimization', 'len')",
         "rawType": "object",
         "type": "unknown"
        },
        {
         "name": "name_run",
         "rawType": "int64",
         "type": "integer"
        }
       ],
       "conversionMethod": "pd.DataFrame",
       "ref": "9ccfbc8e-696a-40ce-b914-188b125f7b76",
       "rows": [
        [
         "('deformable', 'accuracy', 'short')",
         "1072"
        ],
        [
         "('prototree', 'accuracy', 'short')",
         "290"
        ],
        [
         "('st', 'accuracy', 'short')",
         "797"
        ],
        [
         "('tesnet', 'accuracy', 'short')",
         "683"
        ],
        [
         "('vanilla', 'accproto', 'long')",
         "891"
        ],
        [
         "('vanilla', 'accuracy', 'long')",
         "2975"
        ],
        [
         "('vanilla', 'accuracy', 'short')",
         "1692"
        ]
       ],
       "shape": {
        "columns": 1,
        "rows": 7
       }
      },
      "text/html": [
       "<div>\n",
       "<style scoped>\n",
       "    .dataframe tbody tr th:only-of-type {\n",
       "        vertical-align: middle;\n",
       "    }\n",
       "\n",
       "    .dataframe tbody tr th {\n",
       "        vertical-align: top;\n",
       "    }\n",
       "\n",
       "    .dataframe thead th {\n",
       "        text-align: right;\n",
       "    }\n",
       "</style>\n",
       "<table border=\"1\" class=\"dataframe\">\n",
       "  <thead>\n",
       "    <tr style=\"text-align: right;\">\n",
       "      <th></th>\n",
       "      <th></th>\n",
       "      <th></th>\n",
       "      <th>name_run</th>\n",
       "    </tr>\n",
       "    <tr>\n",
       "      <th>model</th>\n",
       "      <th>optimization</th>\n",
       "      <th>len</th>\n",
       "      <th></th>\n",
       "    </tr>\n",
       "  </thead>\n",
       "  <tbody>\n",
       "    <tr>\n",
       "      <th>deformable</th>\n",
       "      <th>accuracy</th>\n",
       "      <th>short</th>\n",
       "      <td>1072</td>\n",
       "    </tr>\n",
       "    <tr>\n",
       "      <th>prototree</th>\n",
       "      <th>accuracy</th>\n",
       "      <th>short</th>\n",
       "      <td>290</td>\n",
       "    </tr>\n",
       "    <tr>\n",
       "      <th>st</th>\n",
       "      <th>accuracy</th>\n",
       "      <th>short</th>\n",
       "      <td>797</td>\n",
       "    </tr>\n",
       "    <tr>\n",
       "      <th>tesnet</th>\n",
       "      <th>accuracy</th>\n",
       "      <th>short</th>\n",
       "      <td>683</td>\n",
       "    </tr>\n",
       "    <tr>\n",
       "      <th rowspan=\"3\" valign=\"top\">vanilla</th>\n",
       "      <th>accproto</th>\n",
       "      <th>long</th>\n",
       "      <td>891</td>\n",
       "    </tr>\n",
       "    <tr>\n",
       "      <th rowspan=\"2\" valign=\"top\">accuracy</th>\n",
       "      <th>long</th>\n",
       "      <td>2975</td>\n",
       "    </tr>\n",
       "    <tr>\n",
       "      <th>short</th>\n",
       "      <td>1692</td>\n",
       "    </tr>\n",
       "  </tbody>\n",
       "</table>\n",
       "</div>"
      ],
      "text/plain": [
       "                               name_run\n",
       "model      optimization len            \n",
       "deformable accuracy     short      1072\n",
       "prototree  accuracy     short       290\n",
       "st         accuracy     short       797\n",
       "tesnet     accuracy     short       683\n",
       "vanilla    accproto     long        891\n",
       "           accuracy     long       2975\n",
       "                        short      1692"
      ]
     },
     "execution_count": 172,
     "metadata": {},
     "output_type": "execute_result"
    }
   ],
   "source": [
    "closest_df.groupby(['model', 'optimization', 'len']).count()[['name_run']]"
   ]
  },
  {
   "cell_type": "code",
   "execution_count": 173,
   "metadata": {},
   "outputs": [
    {
     "data": {
      "application/vnd.microsoft.datawrangler.viewer.v0+json": {
       "columns": [
        {
         "name": "('optimization', 'len', 'model', 'dataset', 'backbone', 'activation_function')",
         "rawType": "object",
         "type": "unknown"
        },
        {
         "name": "name_run",
         "rawType": "int64",
         "type": "integer"
        }
       ],
       "conversionMethod": "pd.DataFrame",
       "ref": "4be0aebc-0c1a-4e7b-8586-81b5e7b42973",
       "rows": [
        [
         "('accproto', 'long', 'vanilla', 'cub200', 'densenet161', 'cosine')",
         "135"
        ],
        [
         "('accproto', 'long', 'vanilla', 'cub200', 'densenet161', 'l2')",
         "120"
        ],
        [
         "('accproto', 'long', 'vanilla', 'cub200', 'resnet50[pretraining=inaturalist]', 'cosine')",
         "184"
        ],
        [
         "('accproto', 'long', 'vanilla', 'cub200', 'resnet50[pretraining=inaturalist]', 'l2')",
         "142"
        ],
        [
         "('accproto', 'long', 'vanilla', 'cub200', 'vgg19', 'cosine')",
         "175"
        ],
        [
         "('accproto', 'long', 'vanilla', 'cub200', 'vgg19', 'l2')",
         "135"
        ],
        [
         "('accuracy', 'long', 'vanilla', 'cars_cropped', 'densenet161', 'cosine')",
         "75"
        ],
        [
         "('accuracy', 'long', 'vanilla', 'cars_cropped', 'densenet161', 'l2')",
         "55"
        ],
        [
         "('accuracy', 'long', 'vanilla', 'cars_cropped', 'resnet50', 'cosine')",
         "80"
        ],
        [
         "('accuracy', 'long', 'vanilla', 'cars_cropped', 'resnet50', 'l2')",
         "72"
        ],
        [
         "('accuracy', 'long', 'vanilla', 'cars_cropped', 'vgg19', 'cosine')",
         "77"
        ],
        [
         "('accuracy', 'long', 'vanilla', 'cars_cropped', 'vgg19', 'l2')",
         "60"
        ],
        [
         "('accuracy', 'long', 'vanilla', 'cub200', 'densenet161', 'cosine')",
         "114"
        ],
        [
         "('accuracy', 'long', 'vanilla', 'cub200', 'densenet161', 'l2')",
         "77"
        ],
        [
         "('accuracy', 'long', 'vanilla', 'cub200', 'resnet50', 'cosine')",
         "128"
        ],
        [
         "('accuracy', 'long', 'vanilla', 'cub200', 'resnet50', 'l2')",
         "104"
        ],
        [
         "('accuracy', 'long', 'vanilla', 'cub200', 'resnet50[pretraining=inaturalist]', 'cosine')",
         "145"
        ],
        [
         "('accuracy', 'long', 'vanilla', 'cub200', 'resnet50[pretraining=inaturalist]', 'l2')",
         "131"
        ],
        [
         "('accuracy', 'long', 'vanilla', 'cub200', 'vgg19', 'cosine')",
         "119"
        ],
        [
         "('accuracy', 'long', 'vanilla', 'cub200', 'vgg19', 'l2')",
         "109"
        ],
        [
         "('accuracy', 'long', 'vanilla', 'cub200_cropped', 'densenet161', 'cosine')",
         "115"
        ],
        [
         "('accuracy', 'long', 'vanilla', 'cub200_cropped', 'densenet161', 'l2')",
         "98"
        ],
        [
         "('accuracy', 'long', 'vanilla', 'cub200_cropped', 'resnet50', 'cosine')",
         "165"
        ],
        [
         "('accuracy', 'long', 'vanilla', 'cub200_cropped', 'resnet50', 'l2')",
         "146"
        ],
        [
         "('accuracy', 'long', 'vanilla', 'cub200_cropped', 'resnet50[pretraining=inaturalist]', 'cosine')",
         "201"
        ],
        [
         "('accuracy', 'long', 'vanilla', 'cub200_cropped', 'resnet50[pretraining=inaturalist]', 'l2')",
         "171"
        ],
        [
         "('accuracy', 'long', 'vanilla', 'cub200_cropped', 'vgg19', 'cosine')",
         "148"
        ],
        [
         "('accuracy', 'long', 'vanilla', 'cub200_cropped', 'vgg19', 'l2')",
         "134"
        ],
        [
         "('accuracy', 'long', 'vanilla', 'dogs', 'densenet161', 'cosine')",
         "68"
        ],
        [
         "('accuracy', 'long', 'vanilla', 'dogs', 'densenet161', 'l2')",
         "53"
        ],
        [
         "('accuracy', 'long', 'vanilla', 'dogs', 'resnet50', 'cosine')",
         "97"
        ],
        [
         "('accuracy', 'long', 'vanilla', 'dogs', 'resnet50', 'l2')",
         "75"
        ],
        [
         "('accuracy', 'long', 'vanilla', 'dogs', 'vgg19', 'cosine')",
         "84"
        ],
        [
         "('accuracy', 'long', 'vanilla', 'dogs', 'vgg19', 'l2')",
         "74"
        ],
        [
         "('accuracy', 'short', 'deformable', 'cub200', 'densenet161', 'cosine')",
         "112"
        ],
        [
         "('accuracy', 'short', 'deformable', 'cub200', 'densenet161', 'l2')",
         "95"
        ],
        [
         "('accuracy', 'short', 'deformable', 'cub200', 'resnet50[pretraining=inaturalist]', 'cosine')",
         "132"
        ],
        [
         "('accuracy', 'short', 'deformable', 'cub200', 'resnet50[pretraining=inaturalist]', 'l2')",
         "113"
        ],
        [
         "('accuracy', 'short', 'deformable', 'cub200', 'vgg19', 'cosine')",
         "99"
        ],
        [
         "('accuracy', 'short', 'deformable', 'cub200', 'vgg19', 'l2')",
         "113"
        ],
        [
         "('accuracy', 'short', 'deformable', 'dogs', 'densenet161', 'cosine')",
         "56"
        ],
        [
         "('accuracy', 'short', 'deformable', 'dogs', 'densenet161', 'l2')",
         "43"
        ],
        [
         "('accuracy', 'short', 'deformable', 'dogs', 'resnet50', 'cosine')",
         "98"
        ],
        [
         "('accuracy', 'short', 'deformable', 'dogs', 'resnet50', 'l2')",
         "82"
        ],
        [
         "('accuracy', 'short', 'deformable', 'dogs', 'vgg19', 'cosine')",
         "61"
        ],
        [
         "('accuracy', 'short', 'deformable', 'dogs', 'vgg19', 'l2')",
         "68"
        ],
        [
         "('accuracy', 'short', 'prototree', 'cub200', 'densenet161', 'cosine')",
         "23"
        ],
        [
         "('accuracy', 'short', 'prototree', 'cub200', 'densenet161', 'exp_l2')",
         "21"
        ],
        [
         "('accuracy', 'short', 'prototree', 'cub200', 'resnet50[pretraining=inaturalist]', 'cosine')",
         "37"
        ],
        [
         "('accuracy', 'short', 'prototree', 'cub200', 'resnet50[pretraining=inaturalist]', 'exp_l2')",
         "39"
        ]
       ],
       "shape": {
        "columns": 1,
        "rows": 106
       }
      },
      "text/html": [
       "<div>\n",
       "<style scoped>\n",
       "    .dataframe tbody tr th:only-of-type {\n",
       "        vertical-align: middle;\n",
       "    }\n",
       "\n",
       "    .dataframe tbody tr th {\n",
       "        vertical-align: top;\n",
       "    }\n",
       "\n",
       "    .dataframe thead th {\n",
       "        text-align: right;\n",
       "    }\n",
       "</style>\n",
       "<table border=\"1\" class=\"dataframe\">\n",
       "  <thead>\n",
       "    <tr style=\"text-align: right;\">\n",
       "      <th></th>\n",
       "      <th></th>\n",
       "      <th></th>\n",
       "      <th></th>\n",
       "      <th></th>\n",
       "      <th></th>\n",
       "      <th>name_run</th>\n",
       "    </tr>\n",
       "    <tr>\n",
       "      <th>optimization</th>\n",
       "      <th>len</th>\n",
       "      <th>model</th>\n",
       "      <th>dataset</th>\n",
       "      <th>backbone</th>\n",
       "      <th>activation_function</th>\n",
       "      <th></th>\n",
       "    </tr>\n",
       "  </thead>\n",
       "  <tbody>\n",
       "    <tr>\n",
       "      <th rowspan=\"5\" valign=\"top\">accproto</th>\n",
       "      <th rowspan=\"5\" valign=\"top\">long</th>\n",
       "      <th rowspan=\"5\" valign=\"top\">vanilla</th>\n",
       "      <th rowspan=\"5\" valign=\"top\">cub200</th>\n",
       "      <th rowspan=\"2\" valign=\"top\">densenet161</th>\n",
       "      <th>cosine</th>\n",
       "      <td>135</td>\n",
       "    </tr>\n",
       "    <tr>\n",
       "      <th>l2</th>\n",
       "      <td>120</td>\n",
       "    </tr>\n",
       "    <tr>\n",
       "      <th rowspan=\"2\" valign=\"top\">resnet50[pretraining=inaturalist]</th>\n",
       "      <th>cosine</th>\n",
       "      <td>184</td>\n",
       "    </tr>\n",
       "    <tr>\n",
       "      <th>l2</th>\n",
       "      <td>142</td>\n",
       "    </tr>\n",
       "    <tr>\n",
       "      <th>vgg19</th>\n",
       "      <th>cosine</th>\n",
       "      <td>175</td>\n",
       "    </tr>\n",
       "    <tr>\n",
       "      <th>...</th>\n",
       "      <th>...</th>\n",
       "      <th>...</th>\n",
       "      <th>...</th>\n",
       "      <th>...</th>\n",
       "      <th>...</th>\n",
       "      <td>...</td>\n",
       "    </tr>\n",
       "    <tr>\n",
       "      <th rowspan=\"5\" valign=\"top\">accuracy</th>\n",
       "      <th rowspan=\"5\" valign=\"top\">short</th>\n",
       "      <th rowspan=\"5\" valign=\"top\">vanilla</th>\n",
       "      <th rowspan=\"5\" valign=\"top\">dogs</th>\n",
       "      <th>densenet161</th>\n",
       "      <th>l2</th>\n",
       "      <td>41</td>\n",
       "    </tr>\n",
       "    <tr>\n",
       "      <th rowspan=\"2\" valign=\"top\">resnet50</th>\n",
       "      <th>cosine</th>\n",
       "      <td>85</td>\n",
       "    </tr>\n",
       "    <tr>\n",
       "      <th>l2</th>\n",
       "      <td>43</td>\n",
       "    </tr>\n",
       "    <tr>\n",
       "      <th rowspan=\"2\" valign=\"top\">vgg19</th>\n",
       "      <th>cosine</th>\n",
       "      <td>71</td>\n",
       "    </tr>\n",
       "    <tr>\n",
       "      <th>l2</th>\n",
       "      <td>42</td>\n",
       "    </tr>\n",
       "  </tbody>\n",
       "</table>\n",
       "<p>106 rows × 1 columns</p>\n",
       "</div>"
      ],
      "text/plain": [
       "                                                                                          name_run\n",
       "optimization len   model   dataset backbone                          activation_function          \n",
       "accproto     long  vanilla cub200  densenet161                       cosine                    135\n",
       "                                                                     l2                        120\n",
       "                                   resnet50[pretraining=inaturalist] cosine                    184\n",
       "                                                                     l2                        142\n",
       "                                   vgg19                             cosine                    175\n",
       "...                                                                                            ...\n",
       "accuracy     short vanilla dogs    densenet161                       l2                         41\n",
       "                                   resnet50                          cosine                     85\n",
       "                                                                     l2                         43\n",
       "                                   vgg19                             cosine                     71\n",
       "                                                                     l2                         42\n",
       "\n",
       "[106 rows x 1 columns]"
      ]
     },
     "execution_count": 173,
     "metadata": {},
     "output_type": "execute_result"
    }
   ],
   "source": [
    "closest_df.groupby(['optimization', 'len', 'model', 'dataset', 'backbone', 'activation_function']).count()[['name_run']]"
   ]
  },
  {
   "cell_type": "markdown",
   "metadata": {},
   "source": [
    "## Export"
   ]
  },
  {
   "cell_type": "code",
   "execution_count": 163,
   "metadata": {},
   "outputs": [],
   "source": [
    "closest_df.to_csv('analysis/wandb-runsXsweepsXeval.csv', index=False)"
   ]
  }
 ],
 "metadata": {
  "kernelspec": {
   "display_name": "base",
   "language": "python",
   "name": "python3"
  },
  "language_info": {
   "codemirror_mode": {
    "name": "ipython",
    "version": 3
   },
   "file_extension": ".py",
   "mimetype": "text/x-python",
   "name": "python",
   "nbconvert_exporter": "python",
   "pygments_lexer": "ipython3",
   "version": "3.11.5"
  }
 },
 "nbformat": 4,
 "nbformat_minor": 2
}
