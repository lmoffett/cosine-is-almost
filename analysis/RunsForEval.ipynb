{
 "cells": [
  {
   "cell_type": "code",
   "execution_count": null,
   "metadata": {},
   "outputs": [],
   "source": [
    "import pandas as pd"
   ]
  },
  {
   "cell_type": "code",
   "execution_count": null,
   "metadata": {},
   "outputs": [],
   "source": [
    "sweeps = pd.read_csv(\"analysis/wandb-sweeps.csv\")\n",
    "sweeps"
   ]
  },
  {
   "cell_type": "code",
   "execution_count": null,
   "metadata": {},
   "outputs": [],
   "source": [
    "sweeps['name'].str.contains('accproto').value_counts()"
   ]
  },
  {
   "cell_type": "code",
   "execution_count": null,
   "metadata": {},
   "outputs": [],
   "source": [
    "import ast\n",
    "is_short =  (sweeps['config_command'].apply(ast.literal_eval).apply(lambda x: x[5]).str.split('/').str[1] == 'short')\n",
    "\n",
    "sweeps['len'] = is_short.apply(lambda x: 'short' if x else 'long')\n",
    "sweeps['model'] = sweeps['name'].str.split(':').str[0].str.split('-').str[0]\n",
    "sweeps['optimization'] = sweeps['name'].str.contains('accproto').apply(lambda x: 'accproto' if x else 'accuracy')\n",
    "sweeps.groupby(['len', 'model', 'optimization']).count()[['id']]"
   ]
  },
  {
   "cell_type": "code",
   "execution_count": null,
   "metadata": {},
   "outputs": [],
   "source": [
    "runs = pd.read_csv(\"analysis/wandb-runs.csv\")\n",
    "runs"
   ]
  },
  {
   "cell_type": "markdown",
   "metadata": {},
   "source": [
    "## Analyze Sweeps"
   ]
  },
  {
   "cell_type": "code",
   "execution_count": null,
   "metadata": {},
   "outputs": [],
   "source": [
    "# 1131 name collisions - most of them from **after** the zlax naming issue was fixed\n",
    "# Moral - use a better entropy source\n",
    "counts = runs['best_model'].value_counts()\n",
    "counts[counts > 1].sum()"
   ]
  },
  {
   "cell_type": "markdown",
   "metadata": {},
   "source": [
    "## Export"
   ]
  },
  {
   "cell_type": "code",
   "execution_count": null,
   "metadata": {},
   "outputs": [],
   "source": [
    "runsXsweeps = pd.merge(runs, sweeps, left_on='sweep_id', right_on='id', suffixes=('_run', '_sw'))\n",
    "runsXsweeps"
   ]
  },
  {
   "cell_type": "code",
   "execution_count": null,
   "metadata": {},
   "outputs": [],
   "source": [
    "runsXsweeps_for_eval = runsXsweeps[~runsXsweeps['best_model'].isna()][['model', 'activation_function', 'len', 'backbone', 'name_run', 'sweep_id', 'dataset', 'best_model', 'optimization']].rename(columns={'name_run': 'run_id'})\n",
    "runsXsweeps_for_eval"
   ]
  },
  {
   "cell_type": "code",
   "execution_count": null,
   "metadata": {},
   "outputs": [],
   "source": [
    "runsXsweeps_for_eval.groupby('run_id').value_counts().sort_values(ascending=False).head(4)"
   ]
  },
  {
   "cell_type": "code",
   "execution_count": null,
   "metadata": {},
   "outputs": [],
   "source": [
    "# three legitimate duplicates\n",
    "# the filename comes from a randomly seeded value by time - collisions aren't possible,\n",
    "# especially not while also colliding with the run id\n",
    "runsXsweeps_for_eval[runsXsweeps_for_eval['run_id'].isin(['2@a1c6ug1d', '1@vse2syxl'])]"
   ]
  },
  {
   "cell_type": "code",
   "execution_count": null,
   "metadata": {},
   "outputs": [],
   "source": [
    "runsXsweeps_for_analysis = runsXsweeps_for_eval.drop_duplicates(['run_id'])\n",
    "runsXsweeps_for_analysis.shape"
   ]
  },
  {
   "cell_type": "code",
   "execution_count": null,
   "metadata": {},
   "outputs": [],
   "source": [
    "runsXsweeps_for_analysis.to_csv(\"analysis/wandb-runsXsweeps-foreval.csv\", index=False)"
   ]
  },
  {
   "cell_type": "code",
   "execution_count": null,
   "metadata": {},
   "outputs": [],
   "source": [
    "runsXsweeps_accuracy = runsXsweeps_for_analysis[runsXsweeps_for_analysis['optimization'] == 'accuracy']\n",
    "runsXsweeps_accuracy.groupby(['len', 'optimization', 'model', 'backbone', 'dataset', 'activation_function', 'sweep_id']).count()[['run_id']]"
   ]
  },
  {
   "cell_type": "code",
   "execution_count": null,
   "metadata": {},
   "outputs": [],
   "source": [
    "runsXsweeps_accuracy.to_csv(\"analysis/wandb-runsXsweeps-foreval-accuracy.csv\", index=False)"
   ]
  },
  {
   "cell_type": "markdown",
   "metadata": {},
   "source": [
    "#### long accuracy\n",
    "these are analyzed for prototype scores"
   ]
  },
  {
   "cell_type": "code",
   "execution_count": null,
   "metadata": {},
   "outputs": [],
   "source": [
    "runsXsweeps_accuracy_long = runsXsweeps_accuracy[(runsXsweeps_accuracy['len'] == 'long') & (runsXsweeps_accuracy['dataset'] != 'cub200')]\n",
    "runsXsweeps_accuracy_long.groupby(['model', 'backbone', 'dataset', 'activation_function', 'sweep_id']).count()[['run_id']]"
   ]
  },
  {
   "cell_type": "code",
   "execution_count": null,
   "metadata": {},
   "outputs": [],
   "source": [
    "runsXsweeps_accuracy_long.to_csv(\"analysis/wandb-runsXsweeps-foreval-accuracy-long.csv\", index=False)"
   ]
  },
  {
   "cell_type": "markdown",
   "metadata": {},
   "source": [
    "# short accuracy"
   ]
  },
  {
   "cell_type": "code",
   "execution_count": null,
   "metadata": {},
   "outputs": [],
   "source": [
    "runsXsweeps_accuracy_short = runsXsweeps_accuracy[runsXsweeps_accuracy['len'] == 'short']\n",
    "runsXsweeps_accuracy_short.groupby(['model', 'backbone', 'dataset', 'activation_function', 'sweep_id']).count()[['run_id']]"
   ]
  },
  {
   "cell_type": "code",
   "execution_count": null,
   "metadata": {},
   "outputs": [],
   "source": [
    "runsXsweeps_accuracy_short.to_csv(\"analysis/wandb-runsXsweeps-foreval-accuracy-short.csv\", index=False)"
   ]
  },
  {
   "cell_type": "markdown",
   "metadata": {},
   "source": [
    "### Acc-proto"
   ]
  },
  {
   "cell_type": "markdown",
   "metadata": {},
   "source": [
    "## "
   ]
  },
  {
   "cell_type": "code",
   "execution_count": null,
   "metadata": {},
   "outputs": [],
   "source": [
    "runsXsweeps_acc_proto = runsXsweeps_for_analysis[runsXsweeps_for_analysis['optimization'] == 'accproto']\n",
    "runsXsweeps_acc_proto.groupby(['len', 'optimization', 'model', 'backbone', 'dataset', 'activation_function', 'sweep_id']).count()[['run_id']]"
   ]
  },
  {
   "cell_type": "code",
   "execution_count": null,
   "metadata": {},
   "outputs": [],
   "source": [
    "runsXsweeps_acc_proto.to_csv(\"analysis/wandb-runsXsweeps-foreval-accproto.csv\", index=False)"
   ]
  }
 ],
 "metadata": {
  "kernelspec": {
   "display_name": "base",
   "language": "python",
   "name": "python3"
  },
  "language_info": {
   "codemirror_mode": {
    "name": "ipython",
    "version": 3
   },
   "file_extension": ".py",
   "mimetype": "text/x-python",
   "name": "python",
   "nbconvert_exporter": "python",
   "pygments_lexer": "ipython3",
   "version": "3.11.5"
  }
 },
 "nbformat": 4,
 "nbformat_minor": 2
}
